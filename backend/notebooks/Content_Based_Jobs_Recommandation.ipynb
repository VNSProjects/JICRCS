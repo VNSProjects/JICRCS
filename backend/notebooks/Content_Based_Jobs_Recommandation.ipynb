{
 "cells": [
  {
   "cell_type": "code",
   "execution_count": 1,
   "metadata": {},
   "outputs": [],
   "source": [
    "import pandas as pd\n",
    "import numpy as np\n",
    "import warnings\n",
    "warnings.filterwarnings('ignore')\n",
    "import nltk\n",
    "import string\n",
    "from nltk import word_tokenize\n",
    "from nltk.corpus import stopwords\n",
    "from nltk.stem.porter import PorterStemmer\n",
    "from nltk.tokenize import RegexpTokenizer\n",
    "from nltk.stem import WordNetLemmatizer\n",
    "from nltk import pos_tag\n",
    "from scipy import stats\n",
    "from ast import literal_eval\n",
    "from sklearn.feature_extraction.text import TfidfVectorizer, CountVectorizer\n",
    "from sklearn.metrics.pairwise import linear_kernel, cosine_similarity\n",
    "import Levenshtein\n",
    "from fuzzywuzzy import process, fuzz"
   ]
  },
  {
   "cell_type": "code",
   "execution_count": 2,
   "metadata": {},
   "outputs": [],
   "source": [
    "# nltk.download('stopwords')\n",
    "# nltk.download('averaged_perceptron_tagger')\n",
    "# nltk.download('wordnet')\n",
    "# nltk.download('omw-1.4')"
   ]
  },
  {
   "cell_type": "code",
   "execution_count": 3,
   "metadata": {},
   "outputs": [],
   "source": [
    "data = pd.read_csv('../data/jobs_dataset.csv')\n",
    "data = data.rename(columns={'Unnamed: 0': 'Index'})\n",
    "data.set_index(\"Index\",inplace = True)\n",
    "# data.head()"
   ]
  },
  {
   "cell_type": "code",
   "execution_count": 4,
   "metadata": {},
   "outputs": [],
   "source": [
    "df = data.copy()"
   ]
  },
  {
   "cell_type": "code",
   "execution_count": 5,
   "metadata": {},
   "outputs": [],
   "source": [
    "# df.shape"
   ]
  },
  {
   "cell_type": "code",
   "execution_count": 6,
   "metadata": {},
   "outputs": [],
   "source": [
    "# df.isnull().sum()"
   ]
  },
  {
   "cell_type": "code",
   "execution_count": 7,
   "metadata": {},
   "outputs": [],
   "source": [
    "# df1 = df[df['Description'].notnull()]"
   ]
  },
  {
   "cell_type": "code",
   "execution_count": 8,
   "metadata": {},
   "outputs": [],
   "source": [
    "# df1.shape"
   ]
  },
  {
   "cell_type": "code",
   "execution_count": 9,
   "metadata": {},
   "outputs": [],
   "source": [
    "# df1.head()"
   ]
  },
  {
   "cell_type": "code",
   "execution_count": 10,
   "metadata": {},
   "outputs": [],
   "source": [
    "# df1.describe()"
   ]
  },
  {
   "cell_type": "code",
   "execution_count": 11,
   "metadata": {},
   "outputs": [],
   "source": [
    "# df1['Description'] = df1['Job Title'] + df1['Description']"
   ]
  },
  {
   "cell_type": "code",
   "execution_count": 12,
   "metadata": {},
   "outputs": [],
   "source": [
    "# def preprocess(text):\n",
    "#     text = text.lower()\n",
    "\n",
    "#     tokenizer = RegexpTokenizer(r'\\w+')\n",
    "#     text = tokenizer.tokenize(text)\n",
    "# #     print(text)\n",
    "# #     text_p = \" \".join([char for char in text if char not in string.punctuation])\n",
    "# #     print(text_p)\n",
    "# #     text = ' '.join([word for word in text])\n",
    "# #     print(\"Text: \",text)\n",
    "#     stop_words = stopwords.words('english')\n",
    "#     filtered_words = [word for word in text if word not in stop_words]\n",
    "    \n",
    "    \n",
    "# #     porter = PorterStemmer()\n",
    "# #     stemmed = [porter.stem(word) for word in filtered_words]\n",
    "    \n",
    "#     pos = pos_tag(filtered_words)\n",
    "#     lemmatizer = WordNetLemmatizer()\n",
    "#     lem_text =[lemmatizer.lemmatize(word) for word in filtered_words]\n",
    "    \n",
    "    \n",
    "#     return \" \".join(word for word in lem_text)"
   ]
  },
  {
   "cell_type": "code",
   "execution_count": 13,
   "metadata": {},
   "outputs": [],
   "source": [
    "# df1['Description'] = df1['Description'].apply(lambda x: preprocess(x))"
   ]
  },
  {
   "cell_type": "code",
   "execution_count": 14,
   "metadata": {},
   "outputs": [],
   "source": [
    "# tf = TfidfVectorizer(analyzer='word',ngram_range=(1, 2),min_df=0, stop_words='english')\n",
    "# tfidf_matrix = tf.fit_transform(df1['Description'])"
   ]
  },
  {
   "cell_type": "code",
   "execution_count": 15,
   "metadata": {},
   "outputs": [],
   "source": [
    "# tfidf_matrix"
   ]
  },
  {
   "cell_type": "code",
   "execution_count": 16,
   "metadata": {},
   "outputs": [],
   "source": [
    "# cosine_sim = linear_kernel(tfidf_matrix, tfidf_matrix)"
   ]
  },
  {
   "cell_type": "code",
   "execution_count": 17,
   "metadata": {},
   "outputs": [],
   "source": [
    "# cosine_sim.shape"
   ]
  },
  {
   "cell_type": "code",
   "execution_count": 18,
   "metadata": {},
   "outputs": [],
   "source": [
    "# cosine_sim[0]"
   ]
  },
  {
   "cell_type": "code",
   "execution_count": 19,
   "metadata": {},
   "outputs": [],
   "source": [
    "# df1 = df1.reset_index()\n",
    "# Job_Title = df1['Job Title']\n",
    "# indices = pd.Series(df1.index, index=df1['Job Title'])\n",
    "# # indices"
   ]
  },
  {
   "cell_type": "code",
   "execution_count": 20,
   "metadata": {},
   "outputs": [],
   "source": [
    "# df1.skills.head()"
   ]
  },
  {
   "cell_type": "code",
   "execution_count": 21,
   "metadata": {},
   "outputs": [],
   "source": [
    "# def get_recommendations(title):\n",
    "#     idx = indices[title]\n",
    "#     # print (idx)\n",
    "#     sim_scores = list(enumerate(cosine_sim[idx]))\n",
    "#     # print (sim_scores)\n",
    "#     sim_scores = sorted(sim_scores, key=lambda x: x[1], reverse=True)\n",
    "#     job_indices = [i[0] for i in sim_scores]\n",
    "#     return Job_Title.iloc[job_indices]"
   ]
  },
  {
   "cell_type": "code",
   "execution_count": 22,
   "metadata": {},
   "outputs": [],
   "source": [
    "# df['Job Title'].head()[0]"
   ]
  },
  {
   "cell_type": "code",
   "execution_count": 23,
   "metadata": {},
   "outputs": [],
   "source": [
    "# indices"
   ]
  },
  {
   "cell_type": "code",
   "execution_count": 24,
   "metadata": {},
   "outputs": [],
   "source": [
    "# get_recommendations(\"Pre-Silicon Systems Simics developer\").head(10)"
   ]
  },
  {
   "cell_type": "markdown",
   "metadata": {},
   "source": [
    "### Skills based Filtering "
   ]
  },
  {
   "cell_type": "code",
   "execution_count": 25,
   "metadata": {},
   "outputs": [],
   "source": [
    "df_skills = df.copy()\n",
    "# df_skills.head()"
   ]
  },
  {
   "cell_type": "code",
   "execution_count": 26,
   "metadata": {},
   "outputs": [],
   "source": [
    "df_skills = df_skills[df_skills['skills'].notnull()]\n",
    "# df_skills.shape"
   ]
  },
  {
   "cell_type": "code",
   "execution_count": 27,
   "metadata": {},
   "outputs": [],
   "source": [
    "def preprocess_skills(text):\n",
    "    text = text.lower()\n",
    "\n",
    "    tokenizer = RegexpTokenizer(r'\\w+')\n",
    "    text = tokenizer.tokenize(text)\n",
    "    stop_words = stopwords.words('english')\n",
    "    filtered_words = [word for word in text if word not in stop_words]   \n",
    "    \n",
    "    return \" \".join(word for word in filtered_words)"
   ]
  },
  {
   "cell_type": "code",
   "execution_count": 28,
   "metadata": {},
   "outputs": [],
   "source": [
    "df_skills['skills'] = df_skills['skills'].apply(lambda x: preprocess_skills(x))\n",
    "# df_skills['skills'].head()"
   ]
  },
  {
   "cell_type": "code",
   "execution_count": 29,
   "metadata": {},
   "outputs": [],
   "source": [
    "tf = TfidfVectorizer(analyzer='word',ngram_range=(1, 2),min_df=0, stop_words='english')\n",
    "tfidf_matrix = tf.fit_transform(df_skills['skills'])"
   ]
  },
  {
   "cell_type": "code",
   "execution_count": 30,
   "metadata": {
    "scrolled": true
   },
   "outputs": [],
   "source": [
    "# tfidf_matrix.shape"
   ]
  },
  {
   "cell_type": "code",
   "execution_count": 31,
   "metadata": {},
   "outputs": [],
   "source": [
    "import pickle\n",
    "pickle.dump(tfidf_matrix, open('../models/tfidf_vectorizer_skills.pickle', 'wb'))"
   ]
  },
  {
   "cell_type": "code",
   "execution_count": 32,
   "metadata": {},
   "outputs": [],
   "source": [
    "cosine_sim = linear_kernel(tfidf_matrix, tfidf_matrix)"
   ]
  },
  {
   "cell_type": "code",
   "execution_count": 33,
   "metadata": {},
   "outputs": [],
   "source": [
    "# cosine_sim.shape,cosine_sim[3]"
   ]
  },
  {
   "cell_type": "code",
   "execution_count": 34,
   "metadata": {},
   "outputs": [],
   "source": [
    "# df_skills.head()"
   ]
  },
  {
   "cell_type": "code",
   "execution_count": 35,
   "metadata": {},
   "outputs": [],
   "source": [
    "# df_skills.reset_index()"
   ]
  },
  {
   "cell_type": "code",
   "execution_count": 36,
   "metadata": {},
   "outputs": [],
   "source": [
    "df_skills = df_skills.reset_index()\n",
    "skills = df_skills[\"skills\"]  # + \" \" + df[\"Job Title\"]\n",
    "indices = pd.Series(df_skills.index, index = df_skills['skills'])\n",
    "df_skills.to_csv('../Data/jobs_recommends.csv')\n",
    "indices.to_csv('../Data/skills_indices.csv')\n",
    "skills.to_csv('../Data/skills.csv')\n",
    "# indices"
   ]
  },
  {
   "cell_type": "code",
   "execution_count": 37,
   "metadata": {},
   "outputs": [],
   "source": [
    "# pd.concat([df_skills[\"skills\"], df[\"Job Title\"]], axis=0, ignore_index=True)"
   ]
  },
  {
   "cell_type": "code",
   "execution_count": 38,
   "metadata": {},
   "outputs": [],
   "source": [
    "# type(skills), type(df_skills), type(indices), type(tfidf_matrix)"
   ]
  },
  {
   "cell_type": "code",
   "execution_count": 39,
   "metadata": {},
   "outputs": [],
   "source": [
    "# df_skills.skills.head()"
   ]
  },
  {
   "cell_type": "code",
   "execution_count": 40,
   "metadata": {},
   "outputs": [],
   "source": [
    "def get_most_similar_skills(skills):\n",
    "    return indices[process.extractOne(skills, indices.index, scorer=fuzz.token_sort_ratio)[0]]"
   ]
  },
  {
   "cell_type": "code",
   "execution_count": 41,
   "metadata": {},
   "outputs": [],
   "source": [
    "# get_most_similar_skills(\"linux\")"
   ]
  },
  {
   "cell_type": "code",
   "execution_count": 42,
   "metadata": {},
   "outputs": [],
   "source": [
    "def get_recommendations(input_skills):\n",
    "#    print(input_skills)\n",
    "#    idx = indices[input_skills]\n",
    "#    print(get_most_similar_skills(input_skills.lower()))\n",
    "    idx = get_most_similar_skills(input_skills.lower())\n",
    "    sim_scores = list(enumerate(cosine_sim[idx]))\n",
    "    sim_scores = sorted(sim_scores, key=lambda x: x[1], reverse=True)\n",
    "    job_indices = [i[0] for i in sim_scores]\n",
    "    skills = df_skills['skills']\n",
    "    return skills.iloc[job_indices]"
   ]
  },
  {
   "cell_type": "code",
   "execution_count": 43,
   "metadata": {},
   "outputs": [],
   "source": [
    "# get_recommendations('Java')"
   ]
  },
  {
   "cell_type": "code",
   "execution_count": 44,
   "metadata": {},
   "outputs": [],
   "source": [
    "# skills"
   ]
  },
  {
   "cell_type": "markdown",
   "metadata": {},
   "source": [
    "### Deployment"
   ]
  },
  {
   "cell_type": "code",
   "execution_count": 45,
   "metadata": {},
   "outputs": [],
   "source": [
    "import pandas as pd\n",
    "import numpy as np\n",
    "import warnings\n",
    "warnings.filterwarnings('ignore')\n",
    "import nltk\n",
    "import string\n",
    "from ast import literal_eval\n",
    "from sklearn.feature_extraction.text import TfidfVectorizer, CountVectorizer\n",
    "from sklearn.metrics.pairwise import linear_kernel, cosine_similarity\n",
    "from fuzzywuzzy import process, fuzz\n",
    "import pickle\n",
    "\n",
    "def get_recommandation(input_skills, tfidf_matrix, df_skills, indices):\n",
    "    cosine_sim = linear_kernel(tfidf_matrix, tfidf_matrix)\n",
    "    idx = indices[process.extractOne(input_skills.lower(), indices.index, scorer=fuzz.token_sort_ratio)[0]]\n",
    "    \n",
    "#     print(\"idx:\", idx)\n",
    "#     print(type(idx))\n",
    "    \n",
    "    if isinstance(idx, pd.Series):\n",
    "#         print(\"series\")\n",
    "        idx = idx[0]\n",
    "#         print(idx, type(int(idx)))\n",
    "    \n",
    "#     if type(idx) is series:\n",
    "#         idx = idx[0]\n",
    "        \n",
    "#     print(idx)\n",
    "        \n",
    "    sim_scores = list(enumerate(cosine_sim[idx]))\n",
    "    sim_scores = sorted(sim_scores, key=lambda x: x[1], reverse=True)\n",
    "    job_indices = [i[0] for i in sim_scores]\n",
    "    return indices.iloc[job_indices], job_indices"
   ]
  },
  {
   "cell_type": "code",
   "execution_count": 46,
   "metadata": {},
   "outputs": [],
   "source": [
    "# if type([1,2,3]) is list:\n",
    "#     print(\"true\")\n",
    "    \n",
    "# type([1,2,3])"
   ]
  },
  {
   "cell_type": "code",
   "execution_count": 53,
   "metadata": {},
   "outputs": [
    {
     "name": "stdout",
     "output_type": "stream",
     "text": [
      "Enter the skills java html\n"
     ]
    }
   ],
   "source": [
    "if __name__ == \"__main__\":\n",
    "    df_skills = pd.read_csv('../Data/skills.csv', usecols=['skills'])\n",
    "    main_df = pd.read_csv('../Data/jobs_recommends.csv', index_col='Index')\n",
    "    indices = pd.read_csv('../Data/skills_indices.csv')\n",
    "    indices = pd.Series(indices.index, index=indices['skills'])\n",
    "\n",
    "    with open(\"../Models/tfidf_vectorizer_skills.pickle\", \"rb\") as f:\n",
    "        tfidf_matrix = pickle.load(f)\n",
    "    input_skill = input(\"Enter the skills \")\n",
    "    recommandations, job_indices = get_recommandation(input_skill, tfidf_matrix, df_skills, indices)\n",
    "    # print(recommandations.shape, type(recommandations), recommandations.index.tolist())\n",
    "    # print(df_skills.iloc[job_indices, :])"
   ]
  },
  {
   "cell_type": "code",
   "execution_count": 48,
   "metadata": {},
   "outputs": [],
   "source": [
    "# main_df.head()"
   ]
  },
  {
   "cell_type": "code",
   "execution_count": 49,
   "metadata": {},
   "outputs": [
    {
     "data": {
      "text/html": [
       "<div>\n",
       "<style scoped>\n",
       "    .dataframe tbody tr th:only-of-type {\n",
       "        vertical-align: middle;\n",
       "    }\n",
       "\n",
       "    .dataframe tbody tr th {\n",
       "        vertical-align: top;\n",
       "    }\n",
       "\n",
       "    .dataframe thead th {\n",
       "        text-align: right;\n",
       "    }\n",
       "</style>\n",
       "<table border=\"1\" class=\"dataframe\">\n",
       "  <thead>\n",
       "    <tr style=\"text-align: right;\">\n",
       "      <th></th>\n",
       "      <th>Unnamed: 0</th>\n",
       "      <th>Job Title</th>\n",
       "      <th>Company Name</th>\n",
       "      <th>Exp</th>\n",
       "      <th>Location</th>\n",
       "      <th>skills</th>\n",
       "      <th>Functional Areas</th>\n",
       "      <th>rating</th>\n",
       "      <th>Vacancy</th>\n",
       "      <th>Employment Type</th>\n",
       "      <th>Description</th>\n",
       "      <th>Benefits</th>\n",
       "    </tr>\n",
       "    <tr>\n",
       "      <th>Index</th>\n",
       "      <th></th>\n",
       "      <th></th>\n",
       "      <th></th>\n",
       "      <th></th>\n",
       "      <th></th>\n",
       "      <th></th>\n",
       "      <th></th>\n",
       "      <th></th>\n",
       "      <th></th>\n",
       "      <th></th>\n",
       "      <th></th>\n",
       "      <th></th>\n",
       "    </tr>\n",
       "  </thead>\n",
       "  <tbody>\n",
       "    <tr>\n",
       "      <th>200.0</th>\n",
       "      <td>127</td>\n",
       "      <td>Tcs Hiring! RPA  Developer -UI Path</td>\n",
       "      <td>Tata Consultancy Services Ltd.</td>\n",
       "      <td>3-8 years</td>\n",
       "      <td>Chennai, Pune, Delhi NCR\\n\\t\\t\\t\\t\\t\\t\\t\\n\\t\\t...</td>\n",
       "      <td>uipath rpa java c c</td>\n",
       "      <td>Other</td>\n",
       "      <td>3.9</td>\n",
       "      <td>NaN</td>\n",
       "      <td>Full Time, Permanent</td>\n",
       "      <td>Roles and Responsibilities  Design, code, test...</td>\n",
       "      <td>Health Insurance  Cafeteria  Gymnasium  Soft S...</td>\n",
       "    </tr>\n",
       "    <tr>\n",
       "      <th>116.0</th>\n",
       "      <td>73</td>\n",
       "      <td>HCL Hiring For RPA (UiPath) Developer role</td>\n",
       "      <td>HCL Technologies Limited</td>\n",
       "      <td>2-7 years</td>\n",
       "      <td>Chennai, Delhi NCR, Bengaluru/Bangalore</td>\n",
       "      <td>uipath rpa</td>\n",
       "      <td>NaN</td>\n",
       "      <td>3.8</td>\n",
       "      <td>NaN</td>\n",
       "      <td>NaN</td>\n",
       "      <td>NaN</td>\n",
       "      <td>NaN</td>\n",
       "    </tr>\n",
       "    <tr>\n",
       "      <th>2080.0</th>\n",
       "      <td>1396</td>\n",
       "      <td>UiPath Developer (RPA) || Upto 60 days NP (must)</td>\n",
       "      <td>HCL Technologies Limited</td>\n",
       "      <td>2-7 years</td>\n",
       "      <td>Chennai, Pune, Bengaluru/Bangalore\\n\\t\\t\\t\\t\\t...</td>\n",
       "      <td>uipath rpa</td>\n",
       "      <td>Other</td>\n",
       "      <td>3.8</td>\n",
       "      <td>NaN</td>\n",
       "      <td>Full Time, Permanent</td>\n",
       "      <td>Here's what you would be doing at UiPath: -Des...</td>\n",
       "      <td>NaN</td>\n",
       "    </tr>\n",
       "    <tr>\n",
       "      <th>1276.0</th>\n",
       "      <td>918</td>\n",
       "      <td>RPA Developer</td>\n",
       "      <td>BIRLASOFT LIMITED</td>\n",
       "      <td>2-7 years</td>\n",
       "      <td>Pune</td>\n",
       "      <td>uipath rpa java artificial intelligence net py...</td>\n",
       "      <td>NaN</td>\n",
       "      <td>3.6</td>\n",
       "      <td>NaN</td>\n",
       "      <td>NaN</td>\n",
       "      <td>NaN</td>\n",
       "      <td>Cafeteria  Work From Home  Health Insurance  S...</td>\n",
       "    </tr>\n",
       "    <tr>\n",
       "      <th>5679.0</th>\n",
       "      <td>3845</td>\n",
       "      <td>RPA Developer - UiPath (2-10 yrs)</td>\n",
       "      <td>AWC Software</td>\n",
       "      <td>2-10 years</td>\n",
       "      <td>AWC Software</td>\n",
       "      <td>uipath rpa implementation rpa</td>\n",
       "      <td>NaN</td>\n",
       "      <td>4.1</td>\n",
       "      <td>NaN</td>\n",
       "      <td>NaN</td>\n",
       "      <td>NaN</td>\n",
       "      <td>Job Training  Health Insurance  Soft Skill Tra...</td>\n",
       "    </tr>\n",
       "    <tr>\n",
       "      <th>5698.0</th>\n",
       "      <td>3861</td>\n",
       "      <td>RPA Developer - UiPath (2-10 yrs)</td>\n",
       "      <td>AWC Software</td>\n",
       "      <td>2-10 years</td>\n",
       "      <td>AWC Software</td>\n",
       "      <td>uipath rpa implementation rpa</td>\n",
       "      <td>Software/Testing/Networking</td>\n",
       "      <td>4.1</td>\n",
       "      <td>NaN</td>\n",
       "      <td>NaN</td>\n",
       "      <td>Role Description :1. 2+ years of working exper...</td>\n",
       "      <td>Job Training  Health Insurance  Soft Skill Tra...</td>\n",
       "    </tr>\n",
       "    <tr>\n",
       "      <th>3526.0</th>\n",
       "      <td>2238</td>\n",
       "      <td>RPA Developer -Uipath</td>\n",
       "      <td>Avaali Solutions Private Limited</td>\n",
       "      <td>2-5 years</td>\n",
       "      <td>Bengaluru/Bangalore</td>\n",
       "      <td>net c framework uipath rpa</td>\n",
       "      <td>NaN</td>\n",
       "      <td>3.8</td>\n",
       "      <td>NaN</td>\n",
       "      <td>NaN</td>\n",
       "      <td>NaN</td>\n",
       "      <td>Work From Home  Job Training  Team Outings  So...</td>\n",
       "    </tr>\n",
       "    <tr>\n",
       "      <th>1121.0</th>\n",
       "      <td>793</td>\n",
       "      <td>Hiring For UiPath Developer_January Month Join...</td>\n",
       "      <td>Globant India Private Limited</td>\n",
       "      <td>5-8 years</td>\n",
       "      <td>Pune</td>\n",
       "      <td>uipath rpa developer uipath developer</td>\n",
       "      <td>Other</td>\n",
       "      <td>4.1</td>\n",
       "      <td>NaN</td>\n",
       "      <td>Full Time, Permanent</td>\n",
       "      <td>Roles and Responsibilities Hello,We are hiring...</td>\n",
       "      <td>Work From Home  Cafeteria  Health Insurance  G...</td>\n",
       "    </tr>\n",
       "    <tr>\n",
       "      <th>5100.0</th>\n",
       "      <td>3452</td>\n",
       "      <td>Medi Assist Healthcare Services - RPA Develope...</td>\n",
       "      <td>Medi Assist Healthcare Srvices</td>\n",
       "      <td>2-4 years</td>\n",
       "      <td>Medi Assist India</td>\n",
       "      <td>r python sql automation anywhere uipath rpa im...</td>\n",
       "      <td>Software/Testing/Networking</td>\n",
       "      <td>3.8</td>\n",
       "      <td>NaN</td>\n",
       "      <td>-  B.Tech / M.Tech in CSE / IT. No arrears in ...</td>\n",
       "      <td>-  Design and build bots used for automating o...</td>\n",
       "      <td>Work From Home  Health Insurance  Cafeteria  J...</td>\n",
       "    </tr>\n",
       "    <tr>\n",
       "      <th>994.0</th>\n",
       "      <td>696</td>\n",
       "      <td>RPA UiPath Developer</td>\n",
       "      <td>KG information Systems Pvt Limited</td>\n",
       "      <td>4-9 years</td>\n",
       "      <td>Coimbatore</td>\n",
       "      <td>uipath rpa framework orchestration</td>\n",
       "      <td>Other</td>\n",
       "      <td>3.8</td>\n",
       "      <td>NaN</td>\n",
       "      <td>Full Time, Permanent</td>\n",
       "      <td>Desired Candidate Profile 4 years of Hand-on E...</td>\n",
       "      <td>Health Insurance  International Relocation  Fr...</td>\n",
       "    </tr>\n",
       "    <tr>\n",
       "      <th>1072.0</th>\n",
       "      <td>756</td>\n",
       "      <td>Urgent Hiring For RPA Developer</td>\n",
       "      <td>Mastek Ltd</td>\n",
       "      <td>4-8 years</td>\n",
       "      <td>Mumbai</td>\n",
       "      <td>rpa uipath</td>\n",
       "      <td>NaN</td>\n",
       "      <td>3.8</td>\n",
       "      <td>NaN</td>\n",
       "      <td>NaN</td>\n",
       "      <td>NaN</td>\n",
       "      <td>Health Insurance  Job Training  Soft Skill Tra...</td>\n",
       "    </tr>\n",
       "    <tr>\n",
       "      <th>4497.0</th>\n",
       "      <td>2979</td>\n",
       "      <td>UiPath Developer</td>\n",
       "      <td>Finesse Global</td>\n",
       "      <td>2-5 years</td>\n",
       "      <td>Bengaluru/Bangalore</td>\n",
       "      <td>rpa uipath</td>\n",
       "      <td>NaN</td>\n",
       "      <td>4.1</td>\n",
       "      <td>NaN</td>\n",
       "      <td>NaN</td>\n",
       "      <td>NaN</td>\n",
       "      <td>Job Training  Soft Skill Training  Cafeteria  ...</td>\n",
       "    </tr>\n",
       "    <tr>\n",
       "      <th>6606.0</th>\n",
       "      <td>4480</td>\n",
       "      <td>RPA Developer - .Net/SQL/UiPath (1-5 yrs)</td>\n",
       "      <td>Pyramid IT Consulting Pvt.ltd</td>\n",
       "      <td>1-5 years</td>\n",
       "      <td>Pyramid IT Consulting</td>\n",
       "      <td>sql rpa uipath rpa tools net sql server</td>\n",
       "      <td>NaN</td>\n",
       "      <td>3.4</td>\n",
       "      <td>NaN</td>\n",
       "      <td>NaN</td>\n",
       "      <td>NaN</td>\n",
       "      <td>Health Insurance  Cafeteria  Free Transport  S...</td>\n",
       "    </tr>\n",
       "    <tr>\n",
       "      <th>4524.0</th>\n",
       "      <td>3000</td>\n",
       "      <td>RPA Developer - VB/.Net (2-5 yrs)</td>\n",
       "      <td>https://www.joriehc.com/</td>\n",
       "      <td>2-5 years</td>\n",
       "      <td>Jorie Healthcare</td>\n",
       "      <td>c scripting net vb uipath rpa</td>\n",
       "      <td>NaN</td>\n",
       "      <td>4.1</td>\n",
       "      <td>NaN</td>\n",
       "      <td>NaN</td>\n",
       "      <td>NaN</td>\n",
       "      <td>Free Transport  Work From Home  Cafeteria  Hea...</td>\n",
       "    </tr>\n",
       "    <tr>\n",
       "      <th>2708.0</th>\n",
       "      <td>1673</td>\n",
       "      <td>Senior RPA Developer</td>\n",
       "      <td>InfoStretch Corporation (India) Pvt. Ltd</td>\n",
       "      <td>3-7 years</td>\n",
       "      <td>Pune, Ahmedabad</td>\n",
       "      <td>rpa</td>\n",
       "      <td>NaN</td>\n",
       "      <td>3.4</td>\n",
       "      <td>NaN</td>\n",
       "      <td>NaN</td>\n",
       "      <td>NaN</td>\n",
       "      <td>NaN</td>\n",
       "    </tr>\n",
       "    <tr>\n",
       "      <th>2188.0</th>\n",
       "      <td>1448</td>\n",
       "      <td>UiPath Developer (RPA/Scrum)-Immediate Joiner-...</td>\n",
       "      <td>Konverge Technologies Pvt Ltd.</td>\n",
       "      <td>4-9 years</td>\n",
       "      <td>Bengaluru/Bangalore</td>\n",
       "      <td>uipath rpa developer scrum agile methodology j...</td>\n",
       "      <td>NaN</td>\n",
       "      <td>3.5</td>\n",
       "      <td>NaN</td>\n",
       "      <td>NaN</td>\n",
       "      <td>NaN</td>\n",
       "      <td>Health Insurance  Work From Home  Cafeteria  F...</td>\n",
       "    </tr>\n",
       "    <tr>\n",
       "      <th>4286.0</th>\n",
       "      <td>2822</td>\n",
       "      <td>RPA Developer| UIpath Developer | Novigo Solut...</td>\n",
       "      <td>Novigo Solutions Private Limited</td>\n",
       "      <td>1-4 years</td>\n",
       "      <td>Cochin/Ernakulam/Kochi</td>\n",
       "      <td>uipath rpa framework ui automtation orchestrat...</td>\n",
       "      <td>Software/Testing/Networking</td>\n",
       "      <td>4.2</td>\n",
       "      <td>NaN</td>\n",
       "      <td>Full Time, Permanent</td>\n",
       "      <td>Job Description: Full development lifecycle in...</td>\n",
       "      <td>Health Insurance  Team Outings  Work From Home...</td>\n",
       "    </tr>\n",
       "    <tr>\n",
       "      <th>5954.0</th>\n",
       "      <td>4021</td>\n",
       "      <td>RPA Developer - UiPath/Cloud Orchestration (1-...</td>\n",
       "      <td>Apex Services</td>\n",
       "      <td>1-3 years</td>\n",
       "      <td>NaN</td>\n",
       "      <td>uipath rpa cloud orchestration automation work...</td>\n",
       "      <td>Software/Testing/Networking</td>\n",
       "      <td>3.8</td>\n",
       "      <td>NaN</td>\n",
       "      <td>NaN</td>\n",
       "      <td>Job Description :- Provide guidance with proce...</td>\n",
       "      <td>Free Transport  Cafeteria  Work From Home  Fre...</td>\n",
       "    </tr>\n",
       "    <tr>\n",
       "      <th>1153.0</th>\n",
       "      <td>821</td>\n",
       "      <td>Senior RPA Developer</td>\n",
       "      <td>Morningstar India (P) Ltd.</td>\n",
       "      <td>5-8 years</td>\n",
       "      <td>Mumbai</td>\n",
       "      <td>artificial intelligence python sql machine lea...</td>\n",
       "      <td>NaN</td>\n",
       "      <td>3.8</td>\n",
       "      <td>NaN</td>\n",
       "      <td>NaN</td>\n",
       "      <td>NaN</td>\n",
       "      <td>Soft Skill Training  Job Training  Work From H...</td>\n",
       "    </tr>\n",
       "    <tr>\n",
       "      <th>161.0</th>\n",
       "      <td>105</td>\n",
       "      <td>RPA Developer (UiPath)</td>\n",
       "      <td>HCL Technologies Limited</td>\n",
       "      <td>2-7 years</td>\n",
       "      <td>Chennai, Pune, Delhi NCR\\n\\t\\t\\t\\t\\t\\t\\t\\n\\t\\t...</td>\n",
       "      <td>c uipath rpa net vb net vb</td>\n",
       "      <td>NaN</td>\n",
       "      <td>3.8</td>\n",
       "      <td>NaN</td>\n",
       "      <td>NaN</td>\n",
       "      <td>NaN</td>\n",
       "      <td>Cafeteria  Health Insurance  Work From Home  G...</td>\n",
       "    </tr>\n",
       "  </tbody>\n",
       "</table>\n",
       "</div>"
      ],
      "text/plain": [
       "        Unnamed: 0                                          Job Title  \\\n",
       "Index                                                                   \n",
       "200.0          127                Tcs Hiring! RPA  Developer -UI Path   \n",
       "116.0           73         HCL Hiring For RPA (UiPath) Developer role   \n",
       "2080.0        1396   UiPath Developer (RPA) || Upto 60 days NP (must)   \n",
       "1276.0         918                                      RPA Developer   \n",
       "5679.0        3845                  RPA Developer - UiPath (2-10 yrs)   \n",
       "5698.0        3861                  RPA Developer - UiPath (2-10 yrs)   \n",
       "3526.0        2238                              RPA Developer -Uipath   \n",
       "1121.0         793  Hiring For UiPath Developer_January Month Join...   \n",
       "5100.0        3452  Medi Assist Healthcare Services - RPA Develope...   \n",
       "994.0          696                               RPA UiPath Developer   \n",
       "1072.0         756                    Urgent Hiring For RPA Developer   \n",
       "4497.0        2979                                   UiPath Developer   \n",
       "6606.0        4480          RPA Developer - .Net/SQL/UiPath (1-5 yrs)   \n",
       "4524.0        3000                  RPA Developer - VB/.Net (2-5 yrs)   \n",
       "2708.0        1673                               Senior RPA Developer   \n",
       "2188.0        1448  UiPath Developer (RPA/Scrum)-Immediate Joiner-...   \n",
       "4286.0        2822  RPA Developer| UIpath Developer | Novigo Solut...   \n",
       "5954.0        4021  RPA Developer - UiPath/Cloud Orchestration (1-...   \n",
       "1153.0         821                               Senior RPA Developer   \n",
       "161.0          105                             RPA Developer (UiPath)   \n",
       "\n",
       "                                       Company Name         Exp  \\\n",
       "Index                                                             \n",
       "200.0               Tata Consultancy Services Ltd.    3-8 years   \n",
       "116.0                   HCL Technologies Limited      2-7 years   \n",
       "2080.0                  HCL Technologies Limited      2-7 years   \n",
       "1276.0                            BIRLASOFT LIMITED   2-7 years   \n",
       "5679.0                                 AWC Software  2-10 years   \n",
       "5698.0                                 AWC Software  2-10 years   \n",
       "3526.0         Avaali Solutions Private Limited       2-5 years   \n",
       "1121.0                Globant India Private Limited   5-8 years   \n",
       "5100.0               Medi Assist Healthcare Srvices   2-4 years   \n",
       "994.0    KG information Systems Pvt Limited           4-9 years   \n",
       "1072.0                                  Mastek Ltd    4-8 years   \n",
       "4497.0                               Finesse Global   2-5 years   \n",
       "6606.0                Pyramid IT Consulting Pvt.ltd   1-5 years   \n",
       "4524.0                     https://www.joriehc.com/   2-5 years   \n",
       "2708.0  InfoStretch Corporation (India) Pvt. Ltd      3-7 years   \n",
       "2188.0               Konverge Technologies Pvt Ltd.   4-9 years   \n",
       "4286.0           Novigo Solutions Private Limited     1-4 years   \n",
       "5954.0                                Apex Services   1-3 years   \n",
       "1153.0                 Morningstar India (P) Ltd.     5-8 years   \n",
       "161.0                   HCL Technologies Limited      2-7 years   \n",
       "\n",
       "                                                 Location  \\\n",
       "Index                                                       \n",
       "200.0   Chennai, Pune, Delhi NCR\\n\\t\\t\\t\\t\\t\\t\\t\\n\\t\\t...   \n",
       "116.0             Chennai, Delhi NCR, Bengaluru/Bangalore   \n",
       "2080.0  Chennai, Pune, Bengaluru/Bangalore\\n\\t\\t\\t\\t\\t...   \n",
       "1276.0                                               Pune   \n",
       "5679.0                                       AWC Software   \n",
       "5698.0                                       AWC Software   \n",
       "3526.0                                Bengaluru/Bangalore   \n",
       "1121.0                                               Pune   \n",
       "5100.0                                  Medi Assist India   \n",
       "994.0                                          Coimbatore   \n",
       "1072.0                                             Mumbai   \n",
       "4497.0                                Bengaluru/Bangalore   \n",
       "6606.0                              Pyramid IT Consulting   \n",
       "4524.0                                   Jorie Healthcare   \n",
       "2708.0                                    Pune, Ahmedabad   \n",
       "2188.0                                Bengaluru/Bangalore   \n",
       "4286.0                             Cochin/Ernakulam/Kochi   \n",
       "5954.0                                                NaN   \n",
       "1153.0                                             Mumbai   \n",
       "161.0   Chennai, Pune, Delhi NCR\\n\\t\\t\\t\\t\\t\\t\\t\\n\\t\\t...   \n",
       "\n",
       "                                                   skills  \\\n",
       "Index                                                       \n",
       "200.0                                 uipath rpa java c c   \n",
       "116.0                                          uipath rpa   \n",
       "2080.0                                         uipath rpa   \n",
       "1276.0  uipath rpa java artificial intelligence net py...   \n",
       "5679.0                      uipath rpa implementation rpa   \n",
       "5698.0                      uipath rpa implementation rpa   \n",
       "3526.0                         net c framework uipath rpa   \n",
       "1121.0              uipath rpa developer uipath developer   \n",
       "5100.0  r python sql automation anywhere uipath rpa im...   \n",
       "994.0                  uipath rpa framework orchestration   \n",
       "1072.0                                         rpa uipath   \n",
       "4497.0                                         rpa uipath   \n",
       "6606.0            sql rpa uipath rpa tools net sql server   \n",
       "4524.0                      c scripting net vb uipath rpa   \n",
       "2708.0                                                rpa   \n",
       "2188.0  uipath rpa developer scrum agile methodology j...   \n",
       "4286.0  uipath rpa framework ui automtation orchestrat...   \n",
       "5954.0  uipath rpa cloud orchestration automation work...   \n",
       "1153.0  artificial intelligence python sql machine lea...   \n",
       "161.0                          c uipath rpa net vb net vb   \n",
       "\n",
       "                   Functional Areas rating Vacancy  \\\n",
       "Index                                                \n",
       "200.0                         Other    3.9     NaN   \n",
       "116.0                           NaN    3.8     NaN   \n",
       "2080.0                        Other    3.8     NaN   \n",
       "1276.0                          NaN    3.6     NaN   \n",
       "5679.0                          NaN    4.1     NaN   \n",
       "5698.0  Software/Testing/Networking    4.1     NaN   \n",
       "3526.0                          NaN    3.8     NaN   \n",
       "1121.0                        Other    4.1     NaN   \n",
       "5100.0  Software/Testing/Networking    3.8     NaN   \n",
       "994.0                         Other    3.8     NaN   \n",
       "1072.0                          NaN    3.8     NaN   \n",
       "4497.0                          NaN    4.1     NaN   \n",
       "6606.0                          NaN    3.4     NaN   \n",
       "4524.0                          NaN    4.1     NaN   \n",
       "2708.0                          NaN    3.4     NaN   \n",
       "2188.0                          NaN    3.5     NaN   \n",
       "4286.0  Software/Testing/Networking    4.2     NaN   \n",
       "5954.0  Software/Testing/Networking    3.8     NaN   \n",
       "1153.0                          NaN    3.8     NaN   \n",
       "161.0                           NaN    3.8     NaN   \n",
       "\n",
       "                                          Employment Type  \\\n",
       "Index                                                       \n",
       "200.0                                Full Time, Permanent   \n",
       "116.0                                                 NaN   \n",
       "2080.0                               Full Time, Permanent   \n",
       "1276.0                                                NaN   \n",
       "5679.0                                                NaN   \n",
       "5698.0                                                NaN   \n",
       "3526.0                                                NaN   \n",
       "1121.0                               Full Time, Permanent   \n",
       "5100.0  -  B.Tech / M.Tech in CSE / IT. No arrears in ...   \n",
       "994.0                                Full Time, Permanent   \n",
       "1072.0                                                NaN   \n",
       "4497.0                                                NaN   \n",
       "6606.0                                                NaN   \n",
       "4524.0                                                NaN   \n",
       "2708.0                                                NaN   \n",
       "2188.0                                                NaN   \n",
       "4286.0                               Full Time, Permanent   \n",
       "5954.0                                                NaN   \n",
       "1153.0                                                NaN   \n",
       "161.0                                                 NaN   \n",
       "\n",
       "                                              Description  \\\n",
       "Index                                                       \n",
       "200.0   Roles and Responsibilities  Design, code, test...   \n",
       "116.0                                                 NaN   \n",
       "2080.0  Here's what you would be doing at UiPath: -Des...   \n",
       "1276.0                                                NaN   \n",
       "5679.0                                                NaN   \n",
       "5698.0  Role Description :1. 2+ years of working exper...   \n",
       "3526.0                                                NaN   \n",
       "1121.0  Roles and Responsibilities Hello,We are hiring...   \n",
       "5100.0  -  Design and build bots used for automating o...   \n",
       "994.0   Desired Candidate Profile 4 years of Hand-on E...   \n",
       "1072.0                                                NaN   \n",
       "4497.0                                                NaN   \n",
       "6606.0                                                NaN   \n",
       "4524.0                                                NaN   \n",
       "2708.0                                                NaN   \n",
       "2188.0                                                NaN   \n",
       "4286.0  Job Description: Full development lifecycle in...   \n",
       "5954.0  Job Description :- Provide guidance with proce...   \n",
       "1153.0                                                NaN   \n",
       "161.0                                                 NaN   \n",
       "\n",
       "                                                 Benefits  \n",
       "Index                                                      \n",
       "200.0   Health Insurance  Cafeteria  Gymnasium  Soft S...  \n",
       "116.0                                                 NaN  \n",
       "2080.0                                                NaN  \n",
       "1276.0  Cafeteria  Work From Home  Health Insurance  S...  \n",
       "5679.0  Job Training  Health Insurance  Soft Skill Tra...  \n",
       "5698.0  Job Training  Health Insurance  Soft Skill Tra...  \n",
       "3526.0  Work From Home  Job Training  Team Outings  So...  \n",
       "1121.0  Work From Home  Cafeteria  Health Insurance  G...  \n",
       "5100.0  Work From Home  Health Insurance  Cafeteria  J...  \n",
       "994.0   Health Insurance  International Relocation  Fr...  \n",
       "1072.0  Health Insurance  Job Training  Soft Skill Tra...  \n",
       "4497.0  Job Training  Soft Skill Training  Cafeteria  ...  \n",
       "6606.0  Health Insurance  Cafeteria  Free Transport  S...  \n",
       "4524.0  Free Transport  Work From Home  Cafeteria  Hea...  \n",
       "2708.0                                                NaN  \n",
       "2188.0  Health Insurance  Work From Home  Cafeteria  F...  \n",
       "4286.0  Health Insurance  Team Outings  Work From Home...  \n",
       "5954.0  Free Transport  Cafeteria  Work From Home  Fre...  \n",
       "1153.0  Soft Skill Training  Job Training  Work From H...  \n",
       "161.0   Cafeteria  Health Insurance  Work From Home  G...  "
      ]
     },
     "execution_count": 49,
     "metadata": {},
     "output_type": "execute_result"
    }
   ],
   "source": [
    "main_df.iloc[job_indices, :].head(20)"
   ]
  },
  {
   "cell_type": "code",
   "execution_count": 50,
   "metadata": {},
   "outputs": [],
   "source": [
    "# temp = df_skills.iloc[job_indices, :]\n",
    "# temp.head()"
   ]
  },
  {
   "cell_type": "code",
   "execution_count": 51,
   "metadata": {},
   "outputs": [],
   "source": [
    "# indices = pd.read_csv('../Data/skills_indices.csv')\n",
    "# indices = pd.Series(indices.index, index=indices['skills'])\n",
    "# type(indices), indices"
   ]
  },
  {
   "cell_type": "code",
   "execution_count": 52,
   "metadata": {},
   "outputs": [],
   "source": [
    "# pd.read_csv('../Data/skills.csv', use_cols)"
   ]
  },
  {
   "cell_type": "code",
   "execution_count": null,
   "metadata": {},
   "outputs": [],
   "source": []
  }
 ],
 "metadata": {
  "kernelspec": {
   "display_name": "Python 3 (ipykernel)",
   "language": "python",
   "name": "python3"
  },
  "language_info": {
   "codemirror_mode": {
    "name": "ipython",
    "version": 3
   },
   "file_extension": ".py",
   "mimetype": "text/x-python",
   "name": "python",
   "nbconvert_exporter": "python",
   "pygments_lexer": "ipython3",
   "version": "3.9.10"
  }
 },
 "nbformat": 4,
 "nbformat_minor": 4
}
