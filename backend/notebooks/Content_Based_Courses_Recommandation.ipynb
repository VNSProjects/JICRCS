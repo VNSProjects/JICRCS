{
 "cells": [
  {
   "cell_type": "code",
   "execution_count": 1,
   "metadata": {},
   "outputs": [],
   "source": [
    "import pandas as pd\n",
    "import numpy as np\n",
    "import warnings\n",
    "warnings.filterwarnings('ignore')\n",
    "import nltk\n",
    "import string\n",
    "from nltk import word_tokenize\n",
    "from nltk.corpus import stopwords\n",
    "from nltk.stem.porter import PorterStemmer\n",
    "from nltk.tokenize import RegexpTokenizer\n",
    "from nltk.stem import WordNetLemmatizer\n",
    "from nltk import pos_tag\n",
    "from scipy import stats\n",
    "from ast import literal_eval\n",
    "from sklearn.feature_extraction.text import TfidfVectorizer, CountVectorizer\n",
    "from sklearn.metrics.pairwise import linear_kernel, cosine_similarity\n",
    "import Levenshtein\n",
    "from fuzzywuzzy import process, fuzz"
   ]
  },
  {
   "cell_type": "code",
   "execution_count": 2,
   "metadata": {},
   "outputs": [],
   "source": [
    "#nltk.download('stopwords')\n",
    "#nltk.download('averaged_perceptron_tagger')\n",
    "#nltk.download('wordnet')\n",
    "#nltk.download('omw-1.4')"
   ]
  },
  {
   "cell_type": "code",
   "execution_count": 3,
   "metadata": {},
   "outputs": [],
   "source": [
    "data = pd.read_csv('../data/Coursera_Courses.csv')\n",
    "data = data.rename(columns={'Unnamed: 0': 'Index'})\n",
    "data.set_index(\"Index\",inplace = True)\n",
    "# data.head()"
   ]
  },
  {
   "cell_type": "code",
   "execution_count": 4,
   "metadata": {},
   "outputs": [],
   "source": [
    "df = data.copy()"
   ]
  },
  {
   "cell_type": "code",
   "execution_count": 5,
   "metadata": {},
   "outputs": [],
   "source": [
    "#df.shape"
   ]
  },
  {
   "cell_type": "code",
   "execution_count": 6,
   "metadata": {},
   "outputs": [],
   "source": [
    "#df.isnull().sum()"
   ]
  },
  {
   "cell_type": "code",
   "execution_count": 7,
   "metadata": {},
   "outputs": [],
   "source": [
    "# df1 = df[df['Description'].notnull()]"
   ]
  },
  {
   "cell_type": "code",
   "execution_count": 8,
   "metadata": {},
   "outputs": [],
   "source": [
    "#df1.shape"
   ]
  },
  {
   "cell_type": "code",
   "execution_count": 9,
   "metadata": {},
   "outputs": [],
   "source": [
    "# df1.head()"
   ]
  },
  {
   "cell_type": "code",
   "execution_count": 10,
   "metadata": {},
   "outputs": [],
   "source": [
    "# df1.describe()"
   ]
  },
  {
   "cell_type": "code",
   "execution_count": 11,
   "metadata": {},
   "outputs": [],
   "source": [
    "# df1['Description'] = df1['Job Title'] + df1['Description']"
   ]
  },
  {
   "cell_type": "code",
   "execution_count": 12,
   "metadata": {},
   "outputs": [],
   "source": [
    "# def preprocess(text):\n",
    "#     text = text.lower()\n",
    "\n",
    "#     tokenizer = RegexpTokenizer(r'\\w+')\n",
    "#     text = tokenizer.tokenize(text)\n",
    "# #     print(text)\n",
    "# #     text_p = \" \".join([char for char in text if char not in string.punctuation])\n",
    "# #     print(text_p)\n",
    "# #     text = ' '.join([word for word in text])\n",
    "# #     print(\"Text: \",text)\n",
    "#     stop_words = stopwords.words('english')\n",
    "#     filtered_words = [word for word in text if word not in stop_words]\n",
    "    \n",
    "    \n",
    "#     #porter = PorterStemmer()\n",
    "#     #stemmed = [porter.stem(word) for word in filtered_words]\n",
    "    \n",
    "#     pos = pos_tag(filtered_words)\n",
    "#     lemmatizer = WordNetLemmatizer()\n",
    "#     lem_text =[lemmatizer.lemmatize(word) for word in filtered_words]\n",
    "    \n",
    "    \n",
    "#     return \" \".join(word for word in lem_text)"
   ]
  },
  {
   "cell_type": "code",
   "execution_count": 13,
   "metadata": {},
   "outputs": [],
   "source": [
    "# df1['Description'] = df1['Description'].apply(lambda x: preprocess(x))"
   ]
  },
  {
   "cell_type": "code",
   "execution_count": 14,
   "metadata": {},
   "outputs": [],
   "source": [
    "# tf = TfidfVectorizer(analyzer='word',ngram_range=(1, 2),min_df=0, stop_words='english')\n",
    "# tfidf_matrix = tf.fit_transform(df1['Description'])"
   ]
  },
  {
   "cell_type": "code",
   "execution_count": 15,
   "metadata": {},
   "outputs": [],
   "source": [
    "#tfidf_matrix"
   ]
  },
  {
   "cell_type": "code",
   "execution_count": 16,
   "metadata": {},
   "outputs": [],
   "source": [
    "# cosine_sim = linear_kernel(tfidf_matrix, tfidf_matrix)"
   ]
  },
  {
   "cell_type": "code",
   "execution_count": 17,
   "metadata": {},
   "outputs": [],
   "source": [
    "#cosine_sim.shape"
   ]
  },
  {
   "cell_type": "code",
   "execution_count": 18,
   "metadata": {},
   "outputs": [],
   "source": [
    "#cosine_sim[0]"
   ]
  },
  {
   "cell_type": "code",
   "execution_count": 19,
   "metadata": {},
   "outputs": [],
   "source": [
    "# df1 = df1.reset_index()\n",
    "# Job_Title = df1['Job Title']\n",
    "# indices = pd.Series(df1.index, index=df1['Job Title'])\n",
    "# #indices"
   ]
  },
  {
   "cell_type": "code",
   "execution_count": 20,
   "metadata": {},
   "outputs": [],
   "source": [
    "#df1.skills.head()"
   ]
  },
  {
   "cell_type": "code",
   "execution_count": 21,
   "metadata": {},
   "outputs": [],
   "source": [
    "# def get_recommendations(title):\n",
    "#     idx = indices[title]\n",
    "#     #print (idx)\n",
    "#     sim_scores = list(enumerate(cosine_sim[idx]))\n",
    "#     #print (sim_scores)\n",
    "#     sim_scores = sorted(sim_scores, key=lambda x: x[1], reverse=True)\n",
    "#     job_indices = [i[0] for i in sim_scores]\n",
    "#     return Job_Title.iloc[job_indices]"
   ]
  },
  {
   "cell_type": "code",
   "execution_count": 22,
   "metadata": {},
   "outputs": [],
   "source": [
    "#df['Job Title'].head()[0]"
   ]
  },
  {
   "cell_type": "code",
   "execution_count": 23,
   "metadata": {},
   "outputs": [],
   "source": [
    "# indices"
   ]
  },
  {
   "cell_type": "code",
   "execution_count": 24,
   "metadata": {},
   "outputs": [],
   "source": [
    "#get_recommendations(\"Pre-Silicon Systems Simics developer\").head(10)"
   ]
  },
  {
   "cell_type": "markdown",
   "metadata": {},
   "source": [
    "### Skills based Filtering "
   ]
  },
  {
   "cell_type": "code",
   "execution_count": 25,
   "metadata": {},
   "outputs": [],
   "source": [
    "df_skills = df.copy()\n",
    "#df_skills.head()"
   ]
  },
  {
   "cell_type": "code",
   "execution_count": 26,
   "metadata": {},
   "outputs": [],
   "source": [
    "df_skills = df_skills[df_skills['course_title'].notnull()]\n",
    "#df_skills.shape"
   ]
  },
  {
   "cell_type": "code",
   "execution_count": 27,
   "metadata": {},
   "outputs": [],
   "source": [
    "def preprocess_skills(text):\n",
    "    text = text.lower()\n",
    "\n",
    "    tokenizer = RegexpTokenizer(r'\\w+')\n",
    "    text = tokenizer.tokenize(text)\n",
    "    stop_words = stopwords.words('english')\n",
    "    filtered_words = [word for word in text if word not in stop_words]   \n",
    "    \n",
    "    return \" \".join(word for word in filtered_words)"
   ]
  },
  {
   "cell_type": "code",
   "execution_count": 28,
   "metadata": {},
   "outputs": [],
   "source": [
    "df_skills['course_title'] = df_skills['course_title'].apply(lambda x: preprocess_skills(x))\n",
    "#df_skills['skills'].head()"
   ]
  },
  {
   "cell_type": "code",
   "execution_count": 29,
   "metadata": {},
   "outputs": [],
   "source": [
    "tf = TfidfVectorizer(analyzer='word',ngram_range=(1, 2),min_df=0, stop_words='english')\n",
    "tfidf_matrix = tf.fit_transform(df_skills['course_title'])"
   ]
  },
  {
   "cell_type": "code",
   "execution_count": 30,
   "metadata": {
    "scrolled": true
   },
   "outputs": [],
   "source": [
    "#tfidf_matrix.shape"
   ]
  },
  {
   "cell_type": "code",
   "execution_count": 31,
   "metadata": {},
   "outputs": [],
   "source": [
    "import pickle\n",
    "pickle.dump(tfidf_matrix, open('../models/tfidf_vectorizer_course_title.pickle', 'wb'))"
   ]
  },
  {
   "cell_type": "code",
   "execution_count": 32,
   "metadata": {},
   "outputs": [],
   "source": [
    "cosine_sim = linear_kernel(tfidf_matrix, tfidf_matrix)"
   ]
  },
  {
   "cell_type": "code",
   "execution_count": 33,
   "metadata": {},
   "outputs": [],
   "source": [
    "#cosine_sim.shape,cosine_sim[3]"
   ]
  },
  {
   "cell_type": "code",
   "execution_count": 34,
   "metadata": {},
   "outputs": [],
   "source": [
    "#df_skills.head()"
   ]
  },
  {
   "cell_type": "code",
   "execution_count": 35,
   "metadata": {},
   "outputs": [],
   "source": [
    "df_skills = df_skills.reset_index()\n",
    "skills = df_skills[\"course_title\"] # + \" \" + df_skills[\"Job Title\"]\n",
    "indices = pd.Series(df_skills.index, index = df_skills['course_title'])\n",
    "df_skills.to_csv('../data/courses_recommends.csv')\n",
    "indices.to_csv('../data/course_title_indices.csv')\n",
    "skills.to_csv('../data/course_title.csv')\n",
    "# indices"
   ]
  },
  {
   "cell_type": "code",
   "execution_count": 36,
   "metadata": {},
   "outputs": [],
   "source": [
    "#indices"
   ]
  },
  {
   "cell_type": "code",
   "execution_count": 37,
   "metadata": {},
   "outputs": [],
   "source": [
    "#type(skills), type(df_skills), type(indices), type(tfidf_matrix)"
   ]
  },
  {
   "cell_type": "code",
   "execution_count": 38,
   "metadata": {},
   "outputs": [],
   "source": [
    "#df_skills.skills.head()"
   ]
  },
  {
   "cell_type": "code",
   "execution_count": 39,
   "metadata": {},
   "outputs": [],
   "source": [
    "def get_most_similar_skills(skills):\n",
    "    return indices[process.extractOne(skills, indices.index, scorer=fuzz.token_sort_ratio)[0]]"
   ]
  },
  {
   "cell_type": "code",
   "execution_count": 40,
   "metadata": {},
   "outputs": [],
   "source": [
    "#get_most_similar_skills(\"linux\")"
   ]
  },
  {
   "cell_type": "code",
   "execution_count": 41,
   "metadata": {},
   "outputs": [],
   "source": [
    "def get_recommendations(input_skills):\n",
    "#    print(input_skills)\n",
    "#    idx = indices[input_skills]\n",
    "#    print(get_most_similar_skills(input_skills.lower()))\n",
    "    idx = get_most_similar_skills(input_skills.lower())\n",
    "    sim_scores = list(enumerate(cosine_sim[idx]))\n",
    "    sim_scores = sorted(sim_scores, key=lambda x: x[1], reverse=True)\n",
    "    job_indices = [i[0] for i in sim_scores]\n",
    "    skills = df_skills['course_title']\n",
    "    return skills.iloc[job_indices]"
   ]
  },
  {
   "cell_type": "code",
   "execution_count": 42,
   "metadata": {},
   "outputs": [],
   "source": [
    "# get_recommendations('Java')"
   ]
  },
  {
   "cell_type": "code",
   "execution_count": 43,
   "metadata": {},
   "outputs": [],
   "source": [
    "# skills"
   ]
  },
  {
   "cell_type": "markdown",
   "metadata": {},
   "source": [
    "### Deployment"
   ]
  },
  {
   "cell_type": "code",
   "execution_count": 44,
   "metadata": {},
   "outputs": [],
   "source": [
    "import pandas as pd\n",
    "import numpy as np\n",
    "import warnings\n",
    "warnings.filterwarnings('ignore')\n",
    "import nltk\n",
    "import string\n",
    "from ast import literal_eval\n",
    "from sklearn.feature_extraction.text import TfidfVectorizer, CountVectorizer\n",
    "from sklearn.metrics.pairwise import linear_kernel, cosine_similarity\n",
    "from fuzzywuzzy import process, fuzz\n",
    "import pickle\n",
    "\n",
    "def get_recommandation(input_skills, tfidf_matrix, df_skills, indices):\n",
    "    cosine_sim = linear_kernel(tfidf_matrix, tfidf_matrix)\n",
    "    idx = indices[process.extractOne(input_skills.lower(), indices.index, scorer=fuzz.token_sort_ratio)[0]]\n",
    "    \n",
    "    #     print(\"idx:\", idx)\n",
    "#     print(type(idx))\n",
    "    \n",
    "    if isinstance(idx, pd.Series):\n",
    "#         print(\"series\")\n",
    "        idx = idx[0]\n",
    "#         print(idx, type(int(idx)))\n",
    "    \n",
    "#     if type(idx) is series:\n",
    "#         idx = idx[0]\n",
    "        \n",
    "#     print(idx)\n",
    "    \n",
    "    sim_scores = list(enumerate(cosine_sim[idx]))\n",
    "    sim_scores = sorted(sim_scores, key=lambda x: x[1], reverse=True)\n",
    "    job_indices = [i[0] for i in sim_scores]\n",
    "    return indices.iloc[job_indices], job_indices"
   ]
  },
  {
   "cell_type": "code",
   "execution_count": 53,
   "metadata": {},
   "outputs": [
    {
     "name": "stdout",
     "output_type": "stream",
     "text": [
      "Enter the skills machine learning\n"
     ]
    }
   ],
   "source": [
    "if __name__ == \"__main__\":\n",
    "    df_skills = pd.read_csv('../data/course_title.csv', usecols=['course_title'])\n",
    "    main_df = pd.read_csv('../data/courses_recommends.csv', index_col='Index')\n",
    "    indices = pd.read_csv('../data/course_title_indices.csv')\n",
    "    indices = pd.Series(indices.index, index=indices['course_title'])\n",
    "\n",
    "    with open(\"../Models/tfidf_vectorizer_course_title.pickle\", \"rb\") as f:\n",
    "        tfidf_matrix = pickle.load(f)\n",
    "    input_skill = input(\"Enter the skills \")\n",
    "    recommandations, job_indices = get_recommandation(input_skill, tfidf_matrix, df_skills, indices)\n",
    "    #print(recommandations.shape, type(recommandations), recommandations.index.tolist())\n",
    "    #print(df_skills.iloc[job_indices, :])"
   ]
  },
  {
   "cell_type": "code",
   "execution_count": 46,
   "metadata": {},
   "outputs": [],
   "source": [
    "#main_df.head()"
   ]
  },
  {
   "cell_type": "code",
   "execution_count": 54,
   "metadata": {},
   "outputs": [
    {
     "data": {
      "text/html": [
       "<div>\n",
       "<style scoped>\n",
       "    .dataframe tbody tr th:only-of-type {\n",
       "        vertical-align: middle;\n",
       "    }\n",
       "\n",
       "    .dataframe tbody tr th {\n",
       "        vertical-align: top;\n",
       "    }\n",
       "\n",
       "    .dataframe thead th {\n",
       "        text-align: right;\n",
       "    }\n",
       "</style>\n",
       "<table border=\"1\" class=\"dataframe\">\n",
       "  <thead>\n",
       "    <tr style=\"text-align: right;\">\n",
       "      <th></th>\n",
       "      <th>Unnamed: 0</th>\n",
       "      <th>course_title</th>\n",
       "      <th>course_organization</th>\n",
       "      <th>course_Certificate_type</th>\n",
       "      <th>course_rating</th>\n",
       "      <th>course_difficulty</th>\n",
       "      <th>course_students_enrolled</th>\n",
       "    </tr>\n",
       "    <tr>\n",
       "      <th>Index</th>\n",
       "      <th></th>\n",
       "      <th></th>\n",
       "      <th></th>\n",
       "      <th></th>\n",
       "      <th></th>\n",
       "      <th></th>\n",
       "      <th></th>\n",
       "    </tr>\n",
       "  </thead>\n",
       "  <tbody>\n",
       "    <tr>\n",
       "      <th>181</th>\n",
       "      <td>563</td>\n",
       "      <td>machine learning</td>\n",
       "      <td>University of Washington</td>\n",
       "      <td>SPECIALIZATION</td>\n",
       "      <td>4.6</td>\n",
       "      <td>Intermediate</td>\n",
       "      <td>290k</td>\n",
       "    </tr>\n",
       "    <tr>\n",
       "      <th>6</th>\n",
       "      <td>564</td>\n",
       "      <td>machine learning</td>\n",
       "      <td>Stanford University</td>\n",
       "      <td>COURSE</td>\n",
       "      <td>4.9</td>\n",
       "      <td>Mixed</td>\n",
       "      <td>3.2m</td>\n",
       "    </tr>\n",
       "    <tr>\n",
       "      <th>585</th>\n",
       "      <td>567</td>\n",
       "      <td>machine learning</td>\n",
       "      <td>University of London</td>\n",
       "      <td>COURSE</td>\n",
       "      <td>4.6</td>\n",
       "      <td>Beginner</td>\n",
       "      <td>19k</td>\n",
       "    </tr>\n",
       "    <tr>\n",
       "      <th>321</th>\n",
       "      <td>570</td>\n",
       "      <td>machine learning python</td>\n",
       "      <td>IBM</td>\n",
       "      <td>COURSE</td>\n",
       "      <td>4.7</td>\n",
       "      <td>Intermediate</td>\n",
       "      <td>120k</td>\n",
       "    </tr>\n",
       "    <tr>\n",
       "      <th>55</th>\n",
       "      <td>595</td>\n",
       "      <td>mathematics machine learning</td>\n",
       "      <td>Imperial College London</td>\n",
       "      <td>SPECIALIZATION</td>\n",
       "      <td>4.6</td>\n",
       "      <td>Beginner</td>\n",
       "      <td>150k</td>\n",
       "    </tr>\n",
       "    <tr>\n",
       "      <th>103</th>\n",
       "      <td>28</td>\n",
       "      <td>advanced machine learning</td>\n",
       "      <td>National Research University Higher School of ...</td>\n",
       "      <td>SPECIALIZATION</td>\n",
       "      <td>4.5</td>\n",
       "      <td>Advanced</td>\n",
       "      <td>190k</td>\n",
       "    </tr>\n",
       "    <tr>\n",
       "      <th>178</th>\n",
       "      <td>569</td>\n",
       "      <td>machine learning trading</td>\n",
       "      <td>Google Cloud</td>\n",
       "      <td>SPECIALIZATION</td>\n",
       "      <td>3.9</td>\n",
       "      <td>Intermediate</td>\n",
       "      <td>15k</td>\n",
       "    </tr>\n",
       "    <tr>\n",
       "      <th>352</th>\n",
       "      <td>566</td>\n",
       "      <td>machine learning reinforcement learning finance</td>\n",
       "      <td>New York University</td>\n",
       "      <td>SPECIALIZATION</td>\n",
       "      <td>3.7</td>\n",
       "      <td>Intermediate</td>\n",
       "      <td>29k</td>\n",
       "    </tr>\n",
       "    <tr>\n",
       "      <th>630</th>\n",
       "      <td>57</td>\n",
       "      <td>applied machine learning python</td>\n",
       "      <td>University of Michigan</td>\n",
       "      <td>COURSE</td>\n",
       "      <td>4.6</td>\n",
       "      <td>Intermediate</td>\n",
       "      <td>150k</td>\n",
       "    </tr>\n",
       "    <tr>\n",
       "      <th>264</th>\n",
       "      <td>568</td>\n",
       "      <td>machine learning business professionals</td>\n",
       "      <td>Google Cloud</td>\n",
       "      <td>COURSE</td>\n",
       "      <td>4.6</td>\n",
       "      <td>Intermediate</td>\n",
       "      <td>58k</td>\n",
       "    </tr>\n",
       "    <tr>\n",
       "      <th>873</th>\n",
       "      <td>598</td>\n",
       "      <td>mathematics machine learning pca</td>\n",
       "      <td>Imperial College London</td>\n",
       "      <td>COURSE</td>\n",
       "      <td>4.0</td>\n",
       "      <td>Intermediate</td>\n",
       "      <td>33k</td>\n",
       "    </tr>\n",
       "    <tr>\n",
       "      <th>148</th>\n",
       "      <td>200</td>\n",
       "      <td>data science statistics machine learning</td>\n",
       "      <td>Johns Hopkins University</td>\n",
       "      <td>SPECIALIZATION</td>\n",
       "      <td>4.4</td>\n",
       "      <td>Intermediate</td>\n",
       "      <td>210k</td>\n",
       "    </tr>\n",
       "    <tr>\n",
       "      <th>189</th>\n",
       "      <td>763</td>\n",
       "      <td>structuring machine learning projects</td>\n",
       "      <td>deeplearning.ai</td>\n",
       "      <td>COURSE</td>\n",
       "      <td>4.8</td>\n",
       "      <td>Beginner</td>\n",
       "      <td>220k</td>\n",
       "    </tr>\n",
       "    <tr>\n",
       "      <th>147</th>\n",
       "      <td>532</td>\n",
       "      <td>investment management python machine learning</td>\n",
       "      <td>EDHEC Business School</td>\n",
       "      <td>SPECIALIZATION</td>\n",
       "      <td>4.6</td>\n",
       "      <td>Beginner</td>\n",
       "      <td>14k</td>\n",
       "    </tr>\n",
       "    <tr>\n",
       "      <th>568</th>\n",
       "      <td>375</td>\n",
       "      <td>getting started aws machine learning</td>\n",
       "      <td>Amazon Web Services</td>\n",
       "      <td>COURSE</td>\n",
       "      <td>4.5</td>\n",
       "      <td>Intermediate</td>\n",
       "      <td>73k</td>\n",
       "    </tr>\n",
       "    <tr>\n",
       "      <th>659</th>\n",
       "      <td>522</td>\n",
       "      <td>introduction trading machine learning gcp</td>\n",
       "      <td>New York Institute of Finance</td>\n",
       "      <td>COURSE</td>\n",
       "      <td>4.0</td>\n",
       "      <td>Intermediate</td>\n",
       "      <td>13k</td>\n",
       "    </tr>\n",
       "    <tr>\n",
       "      <th>125</th>\n",
       "      <td>571</td>\n",
       "      <td>machine learning tensorflow google cloud platform</td>\n",
       "      <td>Google Cloud</td>\n",
       "      <td>SPECIALIZATION</td>\n",
       "      <td>4.5</td>\n",
       "      <td>Intermediate</td>\n",
       "      <td>72k</td>\n",
       "    </tr>\n",
       "    <tr>\n",
       "      <th>223</th>\n",
       "      <td>596</td>\n",
       "      <td>mathematics machine learning linear algebra</td>\n",
       "      <td>Imperial College London</td>\n",
       "      <td>COURSE</td>\n",
       "      <td>4.7</td>\n",
       "      <td>Beginner</td>\n",
       "      <td>140k</td>\n",
       "    </tr>\n",
       "    <tr>\n",
       "      <th>528</th>\n",
       "      <td>597</td>\n",
       "      <td>mathematics machine learning multivariate calc...</td>\n",
       "      <td>Imperial College London</td>\n",
       "      <td>COURSE</td>\n",
       "      <td>4.7</td>\n",
       "      <td>Beginner</td>\n",
       "      <td>51k</td>\n",
       "    </tr>\n",
       "    <tr>\n",
       "      <th>230</th>\n",
       "      <td>520</td>\n",
       "      <td>introduction tensorflow artificial intelligenc...</td>\n",
       "      <td>deeplearning.ai</td>\n",
       "      <td>COURSE</td>\n",
       "      <td>4.7</td>\n",
       "      <td>Intermediate</td>\n",
       "      <td>150k</td>\n",
       "    </tr>\n",
       "  </tbody>\n",
       "</table>\n",
       "</div>"
      ],
      "text/plain": [
       "       Unnamed: 0                                       course_title  \\\n",
       "Index                                                                  \n",
       "181           563                                   machine learning   \n",
       "6             564                                   machine learning   \n",
       "585           567                                   machine learning   \n",
       "321           570                            machine learning python   \n",
       "55            595                       mathematics machine learning   \n",
       "103            28                          advanced machine learning   \n",
       "178           569                           machine learning trading   \n",
       "352           566    machine learning reinforcement learning finance   \n",
       "630            57                    applied machine learning python   \n",
       "264           568            machine learning business professionals   \n",
       "873           598                   mathematics machine learning pca   \n",
       "148           200           data science statistics machine learning   \n",
       "189           763              structuring machine learning projects   \n",
       "147           532      investment management python machine learning   \n",
       "568           375               getting started aws machine learning   \n",
       "659           522          introduction trading machine learning gcp   \n",
       "125           571  machine learning tensorflow google cloud platform   \n",
       "223           596        mathematics machine learning linear algebra   \n",
       "528           597  mathematics machine learning multivariate calc...   \n",
       "230           520  introduction tensorflow artificial intelligenc...   \n",
       "\n",
       "                                     course_organization  \\\n",
       "Index                                                      \n",
       "181                             University of Washington   \n",
       "6                                    Stanford University   \n",
       "585                                 University of London   \n",
       "321                                                  IBM   \n",
       "55                               Imperial College London   \n",
       "103    National Research University Higher School of ...   \n",
       "178                                         Google Cloud   \n",
       "352                                  New York University   \n",
       "630                               University of Michigan   \n",
       "264                                         Google Cloud   \n",
       "873                              Imperial College London   \n",
       "148                             Johns Hopkins University   \n",
       "189                                      deeplearning.ai   \n",
       "147                                EDHEC Business School   \n",
       "568                                  Amazon Web Services   \n",
       "659                        New York Institute of Finance   \n",
       "125                                         Google Cloud   \n",
       "223                              Imperial College London   \n",
       "528                              Imperial College London   \n",
       "230                                      deeplearning.ai   \n",
       "\n",
       "      course_Certificate_type  course_rating course_difficulty  \\\n",
       "Index                                                            \n",
       "181            SPECIALIZATION            4.6      Intermediate   \n",
       "6                      COURSE            4.9             Mixed   \n",
       "585                    COURSE            4.6          Beginner   \n",
       "321                    COURSE            4.7      Intermediate   \n",
       "55             SPECIALIZATION            4.6          Beginner   \n",
       "103            SPECIALIZATION            4.5          Advanced   \n",
       "178            SPECIALIZATION            3.9      Intermediate   \n",
       "352            SPECIALIZATION            3.7      Intermediate   \n",
       "630                    COURSE            4.6      Intermediate   \n",
       "264                    COURSE            4.6      Intermediate   \n",
       "873                    COURSE            4.0      Intermediate   \n",
       "148            SPECIALIZATION            4.4      Intermediate   \n",
       "189                    COURSE            4.8          Beginner   \n",
       "147            SPECIALIZATION            4.6          Beginner   \n",
       "568                    COURSE            4.5      Intermediate   \n",
       "659                    COURSE            4.0      Intermediate   \n",
       "125            SPECIALIZATION            4.5      Intermediate   \n",
       "223                    COURSE            4.7          Beginner   \n",
       "528                    COURSE            4.7          Beginner   \n",
       "230                    COURSE            4.7      Intermediate   \n",
       "\n",
       "      course_students_enrolled  \n",
       "Index                           \n",
       "181                       290k  \n",
       "6                         3.2m  \n",
       "585                        19k  \n",
       "321                       120k  \n",
       "55                        150k  \n",
       "103                       190k  \n",
       "178                        15k  \n",
       "352                        29k  \n",
       "630                       150k  \n",
       "264                        58k  \n",
       "873                        33k  \n",
       "148                       210k  \n",
       "189                       220k  \n",
       "147                        14k  \n",
       "568                        73k  \n",
       "659                        13k  \n",
       "125                        72k  \n",
       "223                       140k  \n",
       "528                        51k  \n",
       "230                       150k  "
      ]
     },
     "execution_count": 54,
     "metadata": {},
     "output_type": "execute_result"
    }
   ],
   "source": [
    "main_df.iloc[job_indices, :].head(20)"
   ]
  },
  {
   "cell_type": "code",
   "execution_count": 48,
   "metadata": {},
   "outputs": [],
   "source": [
    "#temp = df_skills.iloc[job_indices, :]\n",
    "#temp.head()"
   ]
  },
  {
   "cell_type": "code",
   "execution_count": 49,
   "metadata": {},
   "outputs": [],
   "source": [
    "#indices = pd.read_csv('../Data/skills_indices.csv')\n",
    "#indices = pd.Series(indices.index, index=indices['skills'])\n",
    "#type(indices), indices"
   ]
  },
  {
   "cell_type": "code",
   "execution_count": 50,
   "metadata": {},
   "outputs": [],
   "source": [
    "#pd.read_csv('../Data/skills.csv', use_cols)"
   ]
  },
  {
   "cell_type": "code",
   "execution_count": null,
   "metadata": {},
   "outputs": [],
   "source": []
  }
 ],
 "metadata": {
  "kernelspec": {
   "display_name": "Python 3 (ipykernel)",
   "language": "python",
   "name": "python3"
  },
  "language_info": {
   "codemirror_mode": {
    "name": "ipython",
    "version": 3
   },
   "file_extension": ".py",
   "mimetype": "text/x-python",
   "name": "python",
   "nbconvert_exporter": "python",
   "pygments_lexer": "ipython3",
   "version": "3.9.10"
  }
 },
 "nbformat": 4,
 "nbformat_minor": 4
}
