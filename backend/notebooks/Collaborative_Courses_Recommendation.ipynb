{
 "cells": [
  {
   "cell_type": "code",
   "execution_count": 1,
   "metadata": {},
   "outputs": [],
   "source": [
    "import pandas as pd\n",
    "import numpy as np"
   ]
  },
  {
   "cell_type": "code",
   "execution_count": 2,
   "metadata": {},
   "outputs": [],
   "source": [
    "df=pd.read_csv(\"../Data/courses_ratings.csv\", index_col=['course_id'])\n",
    "#df.head()"
   ]
  },
  {
   "cell_type": "code",
   "execution_count": 3,
   "metadata": {},
   "outputs": [],
   "source": [
    "df_courses = pd.read_csv(\"../Data/courses_dataset.csv\")\n",
    "#df_courses.head()"
   ]
  },
  {
   "cell_type": "code",
   "execution_count": 4,
   "metadata": {},
   "outputs": [],
   "source": [
    "df = df.fillna(0).astype(int)\n",
    "#df.head()"
   ]
  },
  {
   "cell_type": "code",
   "execution_count": 5,
   "metadata": {},
   "outputs": [],
   "source": [
    "from sklearn.neighbors import NearestNeighbors"
   ]
  },
  {
   "cell_type": "code",
   "execution_count": 6,
   "metadata": {},
   "outputs": [],
   "source": [
    "knn = NearestNeighbors(metric='cosine', algorithm='brute')\n",
    "knn.fit(df.values)\n",
    "distances, indices = knn.kneighbors(df.values, n_neighbors=3)"
   ]
  },
  {
   "cell_type": "code",
   "execution_count": 7,
   "metadata": {},
   "outputs": [],
   "source": [
    "# indices"
   ]
  },
  {
   "cell_type": "markdown",
   "metadata": {},
   "source": [
    "indices shows the nearest courses to each course. Each row corresponds to the row in the df. The first element in a row is the most similar (nearest) course. It is the course itself. The second element is the second nearest, and the third is the third nearest. For example, in the first row [0,7,5], the nearest course to 'course_0' is itself, the second nearest course is 'course_7', and the third is 'course_5'."
   ]
  },
  {
   "cell_type": "code",
   "execution_count": 8,
   "metadata": {},
   "outputs": [],
   "source": [
    "# distances"
   ]
  },
  {
   "cell_type": "code",
   "execution_count": 9,
   "metadata": {},
   "outputs": [],
   "source": [
    "# print(indices[21])"
   ]
  },
  {
   "cell_type": "markdown",
   "metadata": {},
   "source": [
    "distances shows the distance between courses. Each number in this matrix corresponds to the number in the indices matrix."
   ]
  },
  {
   "cell_type": "code",
   "execution_count": 10,
   "metadata": {},
   "outputs": [
    {
     "name": "stdout",
     "output_type": "stream",
     "text": [
      "Index:  0\n",
      "Similar cources:  [0, 2917, 785]\n",
      "Distances cources:  [0.0, 0.07852140175826994, 0.08233706451775302]\n",
      "ID cources:  0\n",
      "[2917, 785]\n",
      "1: 584758, the distance with 1070968: 0.07852140175826994\n",
      "2: 1233302, the distance with 1070968: 0.08233706451775302\n",
      "\n",
      "\n",
      "Index:  1\n",
      "Similar cources:  [1, 1237, 614]\n",
      "Distances cources:  [0.0, 0.023532708129441082, 0.031504003041813666]\n",
      "ID cources:  0\n",
      "[1237, 614]\n",
      "1: 177614, the distance with 1113822: 0.023532708129441082\n",
      "2: 557436, the distance with 1113822: 0.031504003041813666\n",
      "\n",
      "\n",
      "Index:  2\n",
      "Similar cources:  [2, 143, 2374]\n",
      "Distances cources:  [2.220446049250313e-16, 2.220446049250313e-16, 2.220446049250313e-16]\n",
      "ID cources:  0\n",
      "[143, 2374]\n",
      "1: 48841, the distance with 1006314: 2.220446049250313e-16\n",
      "2: 320238, the distance with 1006314: 2.220446049250313e-16\n",
      "\n",
      "\n",
      "Index:  3\n",
      "Similar cources:  [3, 1632, 3637]\n",
      "Distances cources:  [2.220446049250313e-16, 0.029857499854668124, 0.037466578120378125]\n",
      "ID cources:  0\n",
      "[1632, 3637]\n",
      "1: 908664, the distance with 1210588: 0.029857499854668124\n",
      "2: 258886, the distance with 1210588: 0.037466578120378125\n",
      "\n",
      "\n",
      "Index:  4\n",
      "Similar cources:  [4, 93, 2991]\n",
      "Distances cources:  [0.0, 0.005063323673817899, 0.03301244316954355]\n",
      "ID cources:  0\n",
      "[93, 2991]\n",
      "1: 308696, the distance with 1011058: 0.005063323673817899\n",
      "2: 791610, the distance with 1011058: 0.03301244316954355\n",
      "\n",
      "\n",
      "Index:  5\n",
      "Similar cources:  [5, 142, 378]\n",
      "Distances cources:  [0.0, 0.03298104594055229, 0.0715233091147407]\n",
      "ID cources:  0\n",
      "[142, 378]\n",
      "1: 722174, the distance with 192870: 0.03298104594055229\n",
      "2: 1053272, the distance with 192870: 0.0715233091147407\n",
      "\n",
      "\n",
      "Index:  6\n",
      "Similar cources:  [6, 3357, 1890]\n",
      "Distances cources:  [0.0, 0.07286966294040209, 0.09724376769317455]\n",
      "ID cources:  0\n",
      "[3357, 1890]\n",
      "1: 467426, the distance with 739964: 0.07286966294040209\n",
      "2: 344234, the distance with 739964: 0.09724376769317455\n",
      "\n",
      "\n",
      "Index:  7\n",
      "Similar cources:  [7, 16, 37]\n",
      "Distances cources:  [0.0, 0.0, 0.0]\n",
      "ID cources:  0\n",
      "[16, 37]\n",
      "1: 719698, the distance with 403100: 0.0\n",
      "2: 888716, the distance with 403100: 0.0\n",
      "\n",
      "\n",
      "Index:  8\n",
      "Similar cources:  [8, 2788, 3275]\n",
      "Distances cources:  [0.0, 0.04617903352346786, 0.05409469707308279]\n",
      "ID cources:  0\n",
      "[2788, 3275]\n",
      "1: 500628, the distance with 476268: 0.04617903352346786\n",
      "2: 352774, the distance with 476268: 0.05409469707308279\n",
      "\n",
      "\n",
      "Index:  9\n",
      "Similar cources:  [9, 2451, 1771]\n",
      "Distances cources:  [2.220446049250313e-16, 0.007757361052522449, 0.02748200747171481]\n",
      "ID cources:  0\n",
      "[2451, 1771]\n",
      "1: 42255, the distance with 1167710: 0.007757361052522449\n",
      "2: 1236254, the distance with 1167710: 0.02748200747171481\n",
      "\n",
      "\n",
      "Index:  10\n",
      "Similar cources:  [10, 752, 2903]\n",
      "Distances cources:  [0.0, 0.0192034043890843, 0.023099982603738245]\n",
      "ID cources:  0\n",
      "[752, 2903]\n",
      "1: 537286, the distance with 592338: 0.0192034043890843\n",
      "2: 1145206, the distance with 592338: 0.023099982603738245\n",
      "\n",
      "\n",
      "Index:  11\n",
      "Similar cources:  [11, 456, 3570]\n",
      "Distances cources:  [1.1102230246251565e-16, 0.011903161764546977, 0.05323786333769842]\n",
      "ID cources:  0\n",
      "[456, 3570]\n",
      "1: 1247992, the distance with 975046: 0.011903161764546977\n",
      "2: 533416, the distance with 975046: 0.05323786333769842\n",
      "\n",
      "\n",
      "Index:  12\n",
      "Similar cources:  [12, 156, 235]\n",
      "Distances cources:  [0.0, 0.0, 0.0]\n",
      "ID cources:  0\n",
      "[156, 235]\n",
      "1: 1188410, the distance with 742602: 0.0\n",
      "2: 445916, the distance with 742602: 0.0\n",
      "\n",
      "\n",
      "Index:  13\n",
      "Similar cources:  [13, 319, 939]\n",
      "Distances cources:  [0.0, 0.0, 0.023812939816047263]\n",
      "ID cources:  0\n",
      "[319, 939]\n",
      "1: 552058, the distance with 794151: 0.0\n",
      "2: 974954, the distance with 794151: 0.023812939816047263\n",
      "\n",
      "\n",
      "Index:  14\n",
      "Similar cources:  [14, 2888, 1965]\n",
      "Distances cources:  [0.0, 0.014389239390837805, 0.017292370176009264]\n",
      "ID cources:  0\n",
      "[2888, 1965]\n",
      "1: 1156648, the distance with 1196544: 0.014389239390837805\n",
      "2: 647336, the distance with 1196544: 0.017292370176009264\n",
      "\n",
      "\n",
      "Index:  15\n",
      "Similar cources:  [15, 1569, 1674]\n",
      "Distances cources:  [1.1102230246251565e-16, 0.024627583252760155, 0.037622320033308565]\n",
      "ID cources:  0\n",
      "[1569, 1674]\n",
      "1: 726314, the distance with 504036: 0.024627583252760155\n",
      "2: 393850, the distance with 504036: 0.037622320033308565\n",
      "\n",
      "\n",
      "Index:  16\n",
      "Similar cources:  [7, 16, 37]\n",
      "Distances cources:  [0.0, 0.0, 0.0]\n",
      "ID cources:  1\n",
      "[7, 37]\n",
      "1: 403100, the distance with 719698: 0.0\n",
      "2: 888716, the distance with 719698: 0.0\n",
      "\n",
      "\n",
      "Index:  17\n",
      "Similar cources:  [17, 3249, 2015]\n",
      "Distances cources:  [1.1102230246251565e-16, 0.04653741075440765, 0.05236904092901207]\n",
      "ID cources:  0\n",
      "[3249, 2015]\n",
      "1: 437398, the distance with 564966: 0.04653741075440765\n",
      "2: 1123250, the distance with 564966: 0.05236904092901207\n",
      "\n",
      "\n",
      "Index:  18\n",
      "Similar cources:  [18, 1315, 2070]\n",
      "Distances cources:  [2.220446049250313e-16, 2.220446049250313e-16, 2.220446049250313e-16]\n",
      "ID cources:  0\n",
      "[1315, 2070]\n",
      "1: 1260674, the distance with 606928: 2.220446049250313e-16\n",
      "2: 606494, the distance with 606928: 2.220446049250313e-16\n",
      "\n",
      "\n",
      "Index:  19\n",
      "Similar cources:  [19, 931, 2315]\n",
      "Distances cources:  [0.0, 0.047420655584319626, 0.05691040223211585]\n",
      "ID cources:  0\n",
      "[931, 2315]\n",
      "1: 101038, the distance with 58977: 0.047420655584319626\n",
      "2: 103662, the distance with 58977: 0.05691040223211585\n",
      "\n",
      "\n",
      "Index:  20\n",
      "Similar cources:  [0, 1, 2]\n",
      "Distances cources:  [1.0, 1.0, 1.0]\n"
     ]
    },
    {
     "ename": "ValueError",
     "evalue": "20 is not in list",
     "output_type": "error",
     "traceback": [
      "\u001b[1;31m---------------------------------------------------------------------------\u001b[0m",
      "\u001b[1;31mValueError\u001b[0m                                Traceback (most recent call last)",
      "Input \u001b[1;32mIn [10]\u001b[0m, in \u001b[0;36m<cell line: 1>\u001b[1;34m()\u001b[0m\n\u001b[0;32m     11\u001b[0m course_distances \u001b[38;5;241m=\u001b[39m distances[index_user_likes]\u001b[38;5;241m.\u001b[39mtolist() \u001b[38;5;66;03m# the list for distances of similar courses\u001b[39;00m\n\u001b[0;32m     13\u001b[0m \u001b[38;5;28mprint\u001b[39m(\u001b[38;5;124m\"\u001b[39m\u001b[38;5;124mDistances cources: \u001b[39m\u001b[38;5;124m\"\u001b[39m, course_distances) \n\u001b[1;32m---> 15\u001b[0m id_course \u001b[38;5;241m=\u001b[39m \u001b[43msim_courses\u001b[49m\u001b[38;5;241;43m.\u001b[39;49m\u001b[43mindex\u001b[49m\u001b[43m(\u001b[49m\u001b[43mindex_user_likes\u001b[49m\u001b[43m)\u001b[49m \u001b[38;5;66;03m# get the position of the course itself in indices and distances\u001b[39;00m\n\u001b[0;32m     17\u001b[0m \u001b[38;5;28mprint\u001b[39m(\u001b[38;5;124m\"\u001b[39m\u001b[38;5;124mID cources: \u001b[39m\u001b[38;5;124m\"\u001b[39m, id_course)\n\u001b[0;32m     19\u001b[0m \u001b[38;5;66;03m#print('Similar courses to '+str(df.index[index_user_likes])+':\\n')\u001b[39;00m\n",
      "\u001b[1;31mValueError\u001b[0m: 20 is not in list"
     ]
    }
   ],
   "source": [
    "for title in df.index:\n",
    "    index_user_likes = df.index.tolist().index(title) # get an index for a course\n",
    "    \n",
    "    print(\"Index: \", index_user_likes)\n",
    "    \n",
    "    \n",
    "    sim_courses = indices[index_user_likes].tolist() # make list for similar courses\n",
    "    \n",
    "    print(\"Similar cources: \", sim_courses)\n",
    "    \n",
    "    course_distances = distances[index_user_likes].tolist() # the list for distances of similar courses\n",
    "    \n",
    "    print(\"Distances cources: \", course_distances) \n",
    "    \n",
    "    id_course = sim_courses.index(index_user_likes) # get the position of the course itself in indices and distances\n",
    "    \n",
    "    print(\"ID cources: \", id_course)\n",
    "\n",
    "    #print('Similar courses to '+str(df.index[index_user_likes])+':\\n')\n",
    "\n",
    "\n",
    "    sim_courses.remove(index_user_likes) # remove the course itself in indices\n",
    "    course_distances.pop(id_course) # remove the course itself in distances\n",
    "    \n",
    "    \n",
    "    j = 1\n",
    "    \n",
    "    \n",
    "    print(sim_courses)\n",
    "    \n",
    "    \n",
    "    \n",
    "    \n",
    "    for i in sim_courses:\n",
    "       print(str(j)+': '+str(df.index[i])+', the distance with '+str(title)+': '+str(course_distances[j-1]))\n",
    "       j = j + 1\n",
    "\n",
    "    print('\\n')\n",
    "    "
   ]
  },
  {
   "cell_type": "code",
   "execution_count": null,
   "metadata": {},
   "outputs": [],
   "source": [
    "# x = sim_courses.index(3)\n",
    "# x"
   ]
  },
  {
   "cell_type": "code",
   "execution_count": 11,
   "metadata": {},
   "outputs": [],
   "source": [
    "df1 = df.copy()\n",
    "\n",
    "def recommend_courses(user, num_recommended_course):\n",
    "    recommended_course = []\n",
    "\n",
    "    for m in df[df[user] == 0].index.tolist():\n",
    "        index_df = df.index.tolist().index(m)\n",
    "        predicted_rating = df1.iloc[index_df, df1.columns.tolist().index(user)]\n",
    "        recommended_course.append((m, predicted_rating))\n",
    "\n",
    "    sorted_rm = sorted(recommended_course, key=lambda x:x[1], reverse=True)\n",
    "\n",
    "    print('The list of the Recommended course \\n')\n",
    "    rank = 1\n",
    "    recommandations = list()\n",
    "    for recommended_course in sorted_rm[:num_recommended_course]:\n",
    "        recommandations.append(recommended_course[0])\n",
    "        print('{}: {} - predicted rating:{}'.format(rank, recommended_course[0], recommended_course[1]))\n",
    "        rank = rank + 1\n",
    "    return recommandations"
   ]
  },
  {
   "cell_type": "code",
   "execution_count": 13,
   "metadata": {},
   "outputs": [
    {
     "name": "stdout",
     "output_type": "stream",
     "text": [
      "The list of the Recommended course \n",
      "\n",
      "1: 28295 - predicted rating:3\n",
      "2: 185526 - predicted rating:2\n",
      "3: 837322 - predicted rating:1\n",
      "4: 1070968 - predicted rating:0\n",
      "5: 1210588 - predicted rating:0\n"
     ]
    }
   ],
   "source": [
    "recommendations = recommend_courses('Pooja', 5)"
   ]
  },
  {
   "cell_type": "code",
   "execution_count": null,
   "metadata": {},
   "outputs": [],
   "source": [
    "#course_index = list()\n",
    "#for recommendation in recommendations:\n",
    "#    course_index.append(df_courses.index[df_courses[\"course_id\"]==recommendation].tolist())"
   ]
  },
  {
   "cell_type": "code",
   "execution_count": null,
   "metadata": {},
   "outputs": [],
   "source": [
    "#course_indexs = [item for sublist in course_index for item in sublist]\n",
    "#course_indexs"
   ]
  },
  {
   "cell_type": "code",
   "execution_count": null,
   "metadata": {},
   "outputs": [],
   "source": [
    "#df_courses[df_courses.course_id.isin(recommendations)]"
   ]
  },
  {
   "cell_type": "code",
   "execution_count": 14,
   "metadata": {},
   "outputs": [],
   "source": [
    "df1 = df.copy()\n",
    "\n",
    "def course_recommender(user, num_neighbors, num_recommendation):\n",
    "    number_neighbors = num_neighbors\n",
    "    knn = NearestNeighbors(metric='cosine', algorithm='brute')\n",
    "    knn.fit(df.values)\n",
    "    distances, indices = knn.kneighbors(df.values, n_neighbors=number_neighbors)\n",
    "\n",
    "    user_index = df.columns.tolist().index(user)\n",
    "\n",
    "    for m,t in list(enumerate(df.index)):\n",
    "        if df.iloc[m, user_index] == 0:\n",
    "            sim_courses = indices[m].tolist()\n",
    "            course_distances = distances[m].tolist()\n",
    "            \n",
    "            if m in sim_courses:\n",
    "                id_course = sim_courses.index(m)\n",
    "                sim_courses.remove(m)\n",
    "                course_distances.pop(id_course) \n",
    "\n",
    "            else:\n",
    "                sim_courses = sim_courses[:num_neighbors-1]\n",
    "                course_distances = course_distances[:num_neighbors-1]\n",
    "\n",
    "            course_similarity = [1-x for x in course_distances]\n",
    "            course_similarity_copy = course_similarity.copy()\n",
    "            nominator = 0\n",
    "\n",
    "            for s in range(0, len(course_similarity)):\n",
    "                if df.iloc[sim_courses[s], user_index] == 0:\n",
    "                    if len(course_similarity_copy) == (number_neighbors - 1):\n",
    "                        course_similarity_copy.pop(s)\n",
    "\n",
    "                    else:\n",
    "                        course_similarity_copy.pop(s-(len(course_similarity)-len(course_similarity_copy)))\n",
    "\n",
    "                else:\n",
    "                    nominator = nominator + course_similarity[s]*df.iloc[sim_courses[s],user_index]\n",
    "\n",
    "            if len(course_similarity_copy) > 0:\n",
    "                if sum(course_similarity_copy) > 0:\n",
    "                    predicted_r = nominator/sum(course_similarity_copy)\n",
    "\n",
    "                else:\n",
    "                    predicted_r = 0\n",
    "\n",
    "            else:\n",
    "                predicted_r = 0\n",
    "\n",
    "            df1.iloc[m,user_index] = predicted_r\n",
    "    recommandations = recommend_courses(user, num_recommendation)"
   ]
  },
  {
   "cell_type": "code",
   "execution_count": 15,
   "metadata": {},
   "outputs": [
    {
     "name": "stdout",
     "output_type": "stream",
     "text": [
      "The list of the Recommended course \n",
      "\n",
      "1: 312860 - predicted rating:3.0000000000000004\n",
      "2: 147754 - predicted rating:3.0000000000000004\n",
      "3: 151956 - predicted rating:3.0000000000000004\n",
      "4: 94432 - predicted rating:3.0000000000000004\n",
      "5: 640062 - predicted rating:3.0\n"
     ]
    }
   ],
   "source": [
    "recommandations = course_recommender('Rohit', 5, 5)\n",
    "#print(\"recommandations\", recommandations)"
   ]
  },
  {
   "cell_type": "code",
   "execution_count": null,
   "metadata": {},
   "outputs": [],
   "source": []
  },
  {
   "cell_type": "code",
   "execution_count": null,
   "metadata": {},
   "outputs": [],
   "source": []
  }
 ],
 "metadata": {
  "kernelspec": {
   "display_name": "Python 3 (ipykernel)",
   "language": "python",
   "name": "python3"
  },
  "language_info": {
   "codemirror_mode": {
    "name": "ipython",
    "version": 3
   },
   "file_extension": ".py",
   "mimetype": "text/x-python",
   "name": "python",
   "nbconvert_exporter": "python",
   "pygments_lexer": "ipython3",
   "version": "3.9.10"
  }
 },
 "nbformat": 4,
 "nbformat_minor": 4
}
