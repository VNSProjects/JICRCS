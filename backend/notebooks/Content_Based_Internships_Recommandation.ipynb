{
 "cells": [
  {
   "cell_type": "code",
   "execution_count": 1,
   "metadata": {},
   "outputs": [],
   "source": [
    "import pandas as pd\n",
    "import numpy as np\n",
    "import warnings\n",
    "warnings.filterwarnings('ignore')\n",
    "import nltk\n",
    "import string\n",
    "from nltk import word_tokenize\n",
    "from nltk.corpus import stopwords\n",
    "from nltk.stem.porter import PorterStemmer\n",
    "from nltk.tokenize import RegexpTokenizer\n",
    "from nltk.stem import WordNetLemmatizer\n",
    "from nltk import pos_tag\n",
    "from scipy import stats\n",
    "from ast import literal_eval\n",
    "from sklearn.feature_extraction.text import TfidfVectorizer, CountVectorizer\n",
    "from sklearn.metrics.pairwise import linear_kernel, cosine_similarity\n",
    "import Levenshtein\n",
    "from fuzzywuzzy import process, fuzz"
   ]
  },
  {
   "cell_type": "code",
   "execution_count": 2,
   "metadata": {},
   "outputs": [],
   "source": [
    "# nltk.download('stopwords')\n",
    "# nltk.download('averaged_perceptron_tagger')\n",
    "# nltk.download('wordnet')\n",
    "# nltk.download('omw-1.4')"
   ]
  },
  {
   "cell_type": "code",
   "execution_count": 3,
   "metadata": {},
   "outputs": [],
   "source": [
    "data = pd.read_csv('../data/internships_dataset.csv')\n",
    "data = data.rename(columns={'Unnamed: 0': 'Index'})\n",
    "data.set_index(\"Index\",inplace = True)\n",
    "# data.head()"
   ]
  },
  {
   "cell_type": "code",
   "execution_count": 4,
   "metadata": {},
   "outputs": [],
   "source": [
    "df = data.copy()"
   ]
  },
  {
   "cell_type": "code",
   "execution_count": 5,
   "metadata": {},
   "outputs": [],
   "source": [
    "# df.shape"
   ]
  },
  {
   "cell_type": "code",
   "execution_count": 6,
   "metadata": {},
   "outputs": [],
   "source": [
    "# df.isnull().sum()"
   ]
  },
  {
   "cell_type": "code",
   "execution_count": 7,
   "metadata": {},
   "outputs": [],
   "source": [
    "# df1 = df[df['Description'].notnull()]"
   ]
  },
  {
   "cell_type": "code",
   "execution_count": 8,
   "metadata": {},
   "outputs": [],
   "source": [
    "# df1.shape"
   ]
  },
  {
   "cell_type": "code",
   "execution_count": 9,
   "metadata": {},
   "outputs": [],
   "source": [
    "# df1.head()"
   ]
  },
  {
   "cell_type": "code",
   "execution_count": 10,
   "metadata": {},
   "outputs": [],
   "source": [
    "# df1.describe()"
   ]
  },
  {
   "cell_type": "code",
   "execution_count": 11,
   "metadata": {},
   "outputs": [],
   "source": [
    "# df1['Description'] = df1['Job Title'] + df1['Description']"
   ]
  },
  {
   "cell_type": "code",
   "execution_count": 12,
   "metadata": {},
   "outputs": [],
   "source": [
    "# def preprocess(text):\n",
    "#     text = text.lower()\n",
    "\n",
    "#     tokenizer = RegexpTokenizer(r'\\w+')\n",
    "#     text = tokenizer.tokenize(text)\n",
    "# #     print(text)\n",
    "# #     text_p = \" \".join([char for char in text if char not in string.punctuation])\n",
    "# #     print(text_p)\n",
    "# #     text = ' '.join([word for word in text])\n",
    "# #     print(\"Text: \",text)\n",
    "#     stop_words = stopwords.words('english')\n",
    "#     filtered_words = [word for word in text if word not in stop_words]\n",
    "    \n",
    "    \n",
    "# #     porter = PorterStemmer()\n",
    "# #     stemmed = [porter.stem(word) for word in filtered_words]\n",
    "    \n",
    "#     pos = pos_tag(filtered_words)\n",
    "#     lemmatizer = WordNetLemmatizer()\n",
    "#     lem_text =[lemmatizer.lemmatize(word) for word in filtered_words]\n",
    "    \n",
    "    \n",
    "#     return \" \".join(word for word in lem_text)"
   ]
  },
  {
   "cell_type": "code",
   "execution_count": 13,
   "metadata": {},
   "outputs": [],
   "source": [
    "# df1['Description'] = df1['Description'].apply(lambda x: preprocess(x))"
   ]
  },
  {
   "cell_type": "code",
   "execution_count": 14,
   "metadata": {},
   "outputs": [],
   "source": [
    "# tf = TfidfVectorizer(analyzer='word',ngram_range=(1, 2),min_df=0, stop_words='english')\n",
    "# tfidf_matrix = tf.fit_transform(df1['Description'])"
   ]
  },
  {
   "cell_type": "code",
   "execution_count": 15,
   "metadata": {},
   "outputs": [],
   "source": [
    "# tfidf_matrix"
   ]
  },
  {
   "cell_type": "code",
   "execution_count": 16,
   "metadata": {},
   "outputs": [],
   "source": [
    "# cosine_sim = linear_kernel(tfidf_matrix, tfidf_matrix)"
   ]
  },
  {
   "cell_type": "code",
   "execution_count": 17,
   "metadata": {},
   "outputs": [],
   "source": [
    "# cosine_sim.shape"
   ]
  },
  {
   "cell_type": "code",
   "execution_count": 18,
   "metadata": {},
   "outputs": [],
   "source": [
    "# cosine_sim[0]"
   ]
  },
  {
   "cell_type": "code",
   "execution_count": 19,
   "metadata": {},
   "outputs": [],
   "source": [
    "# df1 = df1.reset_index()\n",
    "# Job_Title = df1['Job Title']\n",
    "# indices = pd.Series(df1.index, index=df1['Job Title'])\n",
    "# # indices"
   ]
  },
  {
   "cell_type": "code",
   "execution_count": 20,
   "metadata": {},
   "outputs": [],
   "source": [
    "# df1.skills.head()"
   ]
  },
  {
   "cell_type": "code",
   "execution_count": 21,
   "metadata": {},
   "outputs": [],
   "source": [
    "# def get_recommendations(title):\n",
    "#     idx = indices[title]\n",
    "#     # print (idx)\n",
    "#     sim_scores = list(enumerate(cosine_sim[idx]))\n",
    "#     # print (sim_scores)\n",
    "#     sim_scores = sorted(sim_scores, key=lambda x: x[1], reverse=True)\n",
    "#     job_indices = [i[0] for i in sim_scores]\n",
    "#     return Job_Title.iloc[job_indices]"
   ]
  },
  {
   "cell_type": "code",
   "execution_count": 22,
   "metadata": {},
   "outputs": [],
   "source": [
    "# df['Job Title'].head()[0]"
   ]
  },
  {
   "cell_type": "code",
   "execution_count": 23,
   "metadata": {},
   "outputs": [],
   "source": [
    "# indices"
   ]
  },
  {
   "cell_type": "code",
   "execution_count": 24,
   "metadata": {},
   "outputs": [],
   "source": [
    "# get_recommendations(\"Pre-Silicon Systems Simics developer\").head(10)"
   ]
  },
  {
   "cell_type": "markdown",
   "metadata": {},
   "source": [
    "### Skills based Filtering "
   ]
  },
  {
   "cell_type": "code",
   "execution_count": 25,
   "metadata": {},
   "outputs": [],
   "source": [
    "df_skills = df.copy()\n",
    "# df_skills.head()"
   ]
  },
  {
   "cell_type": "code",
   "execution_count": 26,
   "metadata": {},
   "outputs": [],
   "source": [
    "df_skills = df_skills[df_skills['title'].notnull()]\n",
    "# df_skills.shape"
   ]
  },
  {
   "cell_type": "code",
   "execution_count": 27,
   "metadata": {},
   "outputs": [],
   "source": [
    "def preprocess_skills(text):\n",
    "    text = text.lower()\n",
    "\n",
    "    tokenizer = RegexpTokenizer(r'\\w+')\n",
    "    text = tokenizer.tokenize(text)\n",
    "    stop_words = stopwords.words('english')\n",
    "    filtered_words = [word for word in text if word not in stop_words]   \n",
    "    \n",
    "    return \" \".join(word for word in filtered_words)"
   ]
  },
  {
   "cell_type": "code",
   "execution_count": 28,
   "metadata": {},
   "outputs": [],
   "source": [
    "df_skills['title'] = df_skills['title'].apply(lambda x: preprocess_skills(x))\n",
    "# df_skills['skills'].head()"
   ]
  },
  {
   "cell_type": "code",
   "execution_count": 29,
   "metadata": {},
   "outputs": [],
   "source": [
    "tf = TfidfVectorizer(analyzer='word',ngram_range=(1, 2),min_df=0, stop_words='english')\n",
    "tfidf_matrix = tf.fit_transform(df_skills['title'])"
   ]
  },
  {
   "cell_type": "code",
   "execution_count": 30,
   "metadata": {
    "scrolled": true
   },
   "outputs": [],
   "source": [
    "# tfidf_matrix.shape"
   ]
  },
  {
   "cell_type": "code",
   "execution_count": 31,
   "metadata": {},
   "outputs": [],
   "source": [
    "import pickle\n",
    "pickle.dump(tfidf_matrix, open('../models/tfidf_vectorizer_title.pickle', 'wb'))"
   ]
  },
  {
   "cell_type": "code",
   "execution_count": 32,
   "metadata": {},
   "outputs": [],
   "source": [
    "cosine_sim = linear_kernel(tfidf_matrix, tfidf_matrix)"
   ]
  },
  {
   "cell_type": "code",
   "execution_count": 33,
   "metadata": {},
   "outputs": [],
   "source": [
    "# cosine_sim.shape,cosine_sim[3]"
   ]
  },
  {
   "cell_type": "code",
   "execution_count": 34,
   "metadata": {},
   "outputs": [],
   "source": [
    "# df_skills.head()"
   ]
  },
  {
   "cell_type": "code",
   "execution_count": 35,
   "metadata": {},
   "outputs": [],
   "source": [
    "df_skills = df_skills.reset_index()\n",
    "skills = df_skills[\"title\"] # + \" \" + df_skills[\"Job Title\"]\n",
    "indices = pd.Series(df_skills.index, index = df_skills['title'])\n",
    "df_skills.to_csv('../data/ints_recommends.csv')\n",
    "indices.to_csv('../data/title_indices.csv')\n",
    "skills.to_csv('../data/title.csv')\n",
    "# indices"
   ]
  },
  {
   "cell_type": "code",
   "execution_count": 36,
   "metadata": {},
   "outputs": [],
   "source": [
    "# type(skills), type(df_skills), type(indices), type(tfidf_matrix)"
   ]
  },
  {
   "cell_type": "code",
   "execution_count": 37,
   "metadata": {},
   "outputs": [],
   "source": [
    "# df_skills.skills.head()"
   ]
  },
  {
   "cell_type": "code",
   "execution_count": 38,
   "metadata": {},
   "outputs": [],
   "source": [
    "def get_most_similar_skills(skills):\n",
    "    return indices[process.extractOne(skills, indices.index, scorer=fuzz.token_sort_ratio)[0]]"
   ]
  },
  {
   "cell_type": "code",
   "execution_count": 39,
   "metadata": {},
   "outputs": [],
   "source": [
    "# get_most_similar_skills(\"linux\")"
   ]
  },
  {
   "cell_type": "code",
   "execution_count": 40,
   "metadata": {},
   "outputs": [],
   "source": [
    "def get_recommendations(input_skills):\n",
    "#    print(input_skills)\n",
    "#    idx = indices[input_skills]\n",
    "#    print(get_most_similar_skills(input_skills.lower()))\n",
    "    idx = get_most_similar_skills(input_skills.lower())\n",
    "    sim_scores = list(enumerate(cosine_sim[idx]))\n",
    "    sim_scores = sorted(sim_scores, key=lambda x: x[1], reverse=True)\n",
    "    job_indices = [i[0] for i in sim_scores]\n",
    "    skills = df_skills['title']\n",
    "    return skills.iloc[job_indices]"
   ]
  },
  {
   "cell_type": "code",
   "execution_count": 41,
   "metadata": {},
   "outputs": [],
   "source": [
    "# get_recommendations('Java')"
   ]
  },
  {
   "cell_type": "code",
   "execution_count": 42,
   "metadata": {},
   "outputs": [],
   "source": [
    "# skills"
   ]
  },
  {
   "cell_type": "markdown",
   "metadata": {},
   "source": [
    "### Deployment"
   ]
  },
  {
   "cell_type": "code",
   "execution_count": 50,
   "metadata": {},
   "outputs": [],
   "source": [
    "import pandas as pd\n",
    "import numpy as np\n",
    "import warnings\n",
    "warnings.filterwarnings('ignore')\n",
    "import nltk\n",
    "import string\n",
    "from ast import literal_eval\n",
    "from sklearn.feature_extraction.text import TfidfVectorizer, CountVectorizer\n",
    "from sklearn.metrics.pairwise import linear_kernel, cosine_similarity\n",
    "from fuzzywuzzy import process, fuzz\n",
    "import pickle\n",
    "\n",
    "def get_recommandation(input_skills, tfidf_matrix, df_skills, indices):\n",
    "    cosine_sim = linear_kernel(tfidf_matrix, tfidf_matrix)\n",
    "    idx = indices[process.extractOne(input_skills.lower(), indices.index, scorer=fuzz.token_sort_ratio)[0]]\n",
    "    \n",
    "    #     print(\"idx:\", idx)\n",
    "#     print(type(idx))\n",
    "    \n",
    "    if isinstance(idx, pd.Series):\n",
    "#         print(\"series\")\n",
    "        idx = idx[0]\n",
    "#         print(idx, type(int(idx)))\n",
    "    \n",
    "#     if type(idx) is series:\n",
    "#         idx = idx[0]\n",
    "        \n",
    "#     print(idx)\n",
    "    \n",
    "    sim_scores = list(enumerate(cosine_sim[idx]))\n",
    "    sim_scores = sorted(sim_scores, key=lambda x: x[1], reverse=True)\n",
    "    job_indices = [i[0] for i in sim_scores]\n",
    "    return indices.iloc[job_indices], job_indices"
   ]
  },
  {
   "cell_type": "code",
   "execution_count": 44,
   "metadata": {},
   "outputs": [
    {
     "name": "stdout",
     "output_type": "stream",
     "text": [
      "Enter the skills java\n"
     ]
    }
   ],
   "source": [
    "if __name__ == \"__main__\":\n",
    "    df_skills = pd.read_csv('../data/title.csv', usecols=['title'])\n",
    "    main_df = pd.read_csv('../data/ints_recommends.csv', index_col='Index')\n",
    "    indices = pd.read_csv('../data/title_indices.csv')\n",
    "    indices = pd.Series(indices.index, index=indices['title'])\n",
    "\n",
    "    with open(\"../Models/tfidf_vectorizer_title.pickle\", \"rb\") as f:\n",
    "        tfidf_matrix = pickle.load(f)\n",
    "    input_skill = input(\"Enter the skills \")\n",
    "    recommandations, job_indices = get_recommandation(input_skill, tfidf_matrix, df_skills, indices)\n",
    "    # print(recommandations.shape, type(recommandations), recommandations.index.tolist())\n",
    "    # print(df_skills.iloc[job_indices, :])"
   ]
  },
  {
   "cell_type": "code",
   "execution_count": 45,
   "metadata": {},
   "outputs": [],
   "source": [
    "# main_df.head()"
   ]
  },
  {
   "cell_type": "code",
   "execution_count": 46,
   "metadata": {},
   "outputs": [
    {
     "data": {
      "text/html": [
       "<div>\n",
       "<style scoped>\n",
       "    .dataframe tbody tr th:only-of-type {\n",
       "        vertical-align: middle;\n",
       "    }\n",
       "\n",
       "    .dataframe tbody tr th {\n",
       "        vertical-align: top;\n",
       "    }\n",
       "\n",
       "    .dataframe thead th {\n",
       "        text-align: right;\n",
       "    }\n",
       "</style>\n",
       "<table border=\"1\" class=\"dataframe\">\n",
       "  <thead>\n",
       "    <tr style=\"text-align: right;\">\n",
       "      <th></th>\n",
       "      <th>Unnamed: 0</th>\n",
       "      <th>title</th>\n",
       "      <th>company</th>\n",
       "      <th>location</th>\n",
       "      <th>startdate</th>\n",
       "      <th>duration</th>\n",
       "      <th>stipend</th>\n",
       "      <th>apply</th>\n",
       "      <th>tags</th>\n",
       "      <th>link</th>\n",
       "    </tr>\n",
       "    <tr>\n",
       "      <th>Index</th>\n",
       "      <th></th>\n",
       "      <th></th>\n",
       "      <th></th>\n",
       "      <th></th>\n",
       "      <th></th>\n",
       "      <th></th>\n",
       "      <th></th>\n",
       "      <th></th>\n",
       "      <th></th>\n",
       "      <th></th>\n",
       "    </tr>\n",
       "  </thead>\n",
       "  <tbody>\n",
       "    <tr>\n",
       "      <th>45.0</th>\n",
       "      <td>12543</td>\n",
       "      <td>java intern</td>\n",
       "      <td>Collin IT Solution</td>\n",
       "      <td>20</td>\n",
       "      <td>Office Internships</td>\n",
       "      <td>Pune</td>\n",
       "      <td>Unpaid</td>\n",
       "      <td>https://www.makeintern.com/internships/web-des...</td>\n",
       "      <td>NaN</td>\n",
       "      <td>NaN</td>\n",
       "    </tr>\n",
       "    <tr>\n",
       "      <th>162.0</th>\n",
       "      <td>9937</td>\n",
       "      <td>intern</td>\n",
       "      <td>PAJASA Stay Solutions Pvt Ltd</td>\n",
       "      <td>1</td>\n",
       "      <td>Virtual Internships</td>\n",
       "      <td>Mumbai</td>\n",
       "      <td>Rs. 3000-10000</td>\n",
       "      <td>https://www.makeintern.com/internships/marketi...</td>\n",
       "      <td>NaN</td>\n",
       "      <td>NaN</td>\n",
       "    </tr>\n",
       "    <tr>\n",
       "      <th>246.0</th>\n",
       "      <td>10021</td>\n",
       "      <td>intern</td>\n",
       "      <td>Euphoric Beverages</td>\n",
       "      <td>1</td>\n",
       "      <td>Office Internships</td>\n",
       "      <td>Bangalore</td>\n",
       "      <td>Rs. 5000-8000</td>\n",
       "      <td>https://www.makeintern.com/internships/marketi...</td>\n",
       "      <td>NaN</td>\n",
       "      <td>NaN</td>\n",
       "    </tr>\n",
       "    <tr>\n",
       "      <th>96.0</th>\n",
       "      <td>2003</td>\n",
       "      <td>java development</td>\n",
       "      <td>KaHa Technologies</td>\n",
       "      <td>Bangalore</td>\n",
       "      <td>Starts immediatelyImmediately</td>\n",
       "      <td>4 Months</td>\n",
       "      <td>12000-15000 /month</td>\n",
       "      <td>18 Feb' 22</td>\n",
       "      <td>Internship                \\n\\n                ...</td>\n",
       "      <td>https://internshala.com/internships/computer%2...</td>\n",
       "    </tr>\n",
       "    <tr>\n",
       "      <th>125.0</th>\n",
       "      <td>2032</td>\n",
       "      <td>java development</td>\n",
       "      <td>Liberin Technologies Private Limited</td>\n",
       "      <td>Noida</td>\n",
       "      <td>Starts immediatelyImmediately</td>\n",
       "      <td>6 Months</td>\n",
       "      <td>5000 /month</td>\n",
       "      <td>18 Feb' 22</td>\n",
       "      <td>Internship with job offer                \\n\\n ...</td>\n",
       "      <td>https://internshala.com/internships/computer%2...</td>\n",
       "    </tr>\n",
       "  </tbody>\n",
       "</table>\n",
       "</div>"
      ],
      "text/plain": [
       "       Unnamed: 0             title                               company  \\\n",
       "Index                                                                       \n",
       "45.0        12543       java intern                    Collin IT Solution   \n",
       "162.0        9937            intern         PAJASA Stay Solutions Pvt Ltd   \n",
       "246.0       10021            intern                    Euphoric Beverages   \n",
       "96.0         2003  java development                     KaHa Technologies   \n",
       "125.0        2032  java development  Liberin Technologies Private Limited   \n",
       "\n",
       "        location                      startdate   duration  \\\n",
       "Index                                                        \n",
       "45.0          20             Office Internships       Pune   \n",
       "162.0          1            Virtual Internships     Mumbai   \n",
       "246.0          1             Office Internships  Bangalore   \n",
       "96.0   Bangalore  Starts immediatelyImmediately   4 Months   \n",
       "125.0      Noida  Starts immediatelyImmediately   6 Months   \n",
       "\n",
       "                  stipend                                              apply  \\\n",
       "Index                                                                          \n",
       "45.0               Unpaid  https://www.makeintern.com/internships/web-des...   \n",
       "162.0      Rs. 3000-10000  https://www.makeintern.com/internships/marketi...   \n",
       "246.0       Rs. 5000-8000  https://www.makeintern.com/internships/marketi...   \n",
       "96.0   12000-15000 /month                                         18 Feb' 22   \n",
       "125.0         5000 /month                                         18 Feb' 22   \n",
       "\n",
       "                                                    tags  \\\n",
       "Index                                                      \n",
       "45.0                                                 NaN   \n",
       "162.0                                                NaN   \n",
       "246.0                                                NaN   \n",
       "96.0   Internship                \\n\\n                ...   \n",
       "125.0  Internship with job offer                \\n\\n ...   \n",
       "\n",
       "                                                    link  \n",
       "Index                                                     \n",
       "45.0                                                 NaN  \n",
       "162.0                                                NaN  \n",
       "246.0                                                NaN  \n",
       "96.0   https://internshala.com/internships/computer%2...  \n",
       "125.0  https://internshala.com/internships/computer%2...  "
      ]
     },
     "execution_count": 46,
     "metadata": {},
     "output_type": "execute_result"
    }
   ],
   "source": [
    "main_df.iloc[job_indices, :].head()"
   ]
  },
  {
   "cell_type": "code",
   "execution_count": 47,
   "metadata": {},
   "outputs": [],
   "source": [
    "# temp = df_skills.iloc[job_indices, :]\n",
    "# temp.head()"
   ]
  },
  {
   "cell_type": "code",
   "execution_count": 48,
   "metadata": {},
   "outputs": [],
   "source": [
    "# indices = pd.read_csv('../Data/skills_indices.csv')\n",
    "# indices = pd.Series(indices.index, index=indices['skills'])\n",
    "# type(indices), indices"
   ]
  },
  {
   "cell_type": "code",
   "execution_count": 49,
   "metadata": {},
   "outputs": [],
   "source": [
    "# pd.read_csv('../Data/skills.csv', use_cols)"
   ]
  },
  {
   "cell_type": "code",
   "execution_count": null,
   "metadata": {},
   "outputs": [],
   "source": []
  }
 ],
 "metadata": {
  "kernelspec": {
   "display_name": "Python 3 (ipykernel)",
   "language": "python",
   "name": "python3"
  },
  "language_info": {
   "codemirror_mode": {
    "name": "ipython",
    "version": 3
   },
   "file_extension": ".py",
   "mimetype": "text/x-python",
   "name": "python",
   "nbconvert_exporter": "python",
   "pygments_lexer": "ipython3",
   "version": "3.10.2"
  }
 },
 "nbformat": 4,
 "nbformat_minor": 4
}
