{
 "cells": [
  {
   "cell_type": "code",
   "execution_count": 1,
   "metadata": {},
   "outputs": [],
   "source": [
    "import pandas as pd\n",
    "import numpy as np"
   ]
  },
  {
   "cell_type": "code",
   "execution_count": 2,
   "metadata": {},
   "outputs": [],
   "source": [
    "df=pd.read_csv(\"../Data/internships_ratings.csv\", index_col=['ints_id'])\n",
    "#df.head()"
   ]
  },
  {
   "cell_type": "code",
   "execution_count": 3,
   "metadata": {},
   "outputs": [],
   "source": [
    "df_courses = pd.read_csv(\"../Data/internships_dataset.csv\")\n",
    "#df_courses.head()"
   ]
  },
  {
   "cell_type": "code",
   "execution_count": 4,
   "metadata": {},
   "outputs": [],
   "source": [
    "df = df.fillna(0).astype(int)\n",
    "#df.head()"
   ]
  },
  {
   "cell_type": "code",
   "execution_count": 5,
   "metadata": {},
   "outputs": [],
   "source": [
    "from sklearn.neighbors import NearestNeighbors"
   ]
  },
  {
   "cell_type": "code",
   "execution_count": 6,
   "metadata": {},
   "outputs": [],
   "source": [
    "knn = NearestNeighbors(metric='cosine', algorithm='brute')\n",
    "knn.fit(df.values)\n",
    "distances, indices = knn.kneighbors(df.values, n_neighbors=3)"
   ]
  },
  {
   "cell_type": "code",
   "execution_count": 7,
   "metadata": {},
   "outputs": [],
   "source": [
    "#indices"
   ]
  },
  {
   "cell_type": "markdown",
   "metadata": {},
   "source": [
    "indices shows the nearest courses to each course. Each row corresponds to the row in the df. The first element in a row is the most similar (nearest) course. It is the course itself. The second element is the second nearest, and the third is the third nearest. For example, in the first row [0,7,5], the nearest course to 'course_0' is itself, the second nearest course is 'course_7', and the third is 'course_5'."
   ]
  },
  {
   "cell_type": "code",
   "execution_count": 8,
   "metadata": {},
   "outputs": [],
   "source": [
    "# distances"
   ]
  },
  {
   "cell_type": "code",
   "execution_count": 9,
   "metadata": {},
   "outputs": [],
   "source": [
    "# print(indices[21])"
   ]
  },
  {
   "cell_type": "markdown",
   "metadata": {},
   "source": [
    "distances shows the distance between courses. Each number in this matrix corresponds to the number in the indices matrix."
   ]
  },
  {
   "cell_type": "code",
   "execution_count": 10,
   "metadata": {},
   "outputs": [
    {
     "name": "stdout",
     "output_type": "stream",
     "text": [
      "Index:  0\n",
      "Similar cources:  [0, 3681, 7361]\n",
      "Distances cources:  [0.0, 0.0, 0.0]\n",
      "ID cources:  0\n",
      "[3681, 7361]\n",
      "1: 1774.0, the distance with 0.0: 0.0\n",
      "2: 7.0, the distance with 0.0: 0.0\n",
      "\n",
      "\n",
      "Index:  1\n",
      "Similar cources:  [1, 3682, 7362]\n",
      "Distances cources:  [0.0, 0.0, 0.0]\n",
      "ID cources:  0\n",
      "[3682, 7362]\n",
      "1: 1775.0, the distance with 1.0: 0.0\n",
      "2: 8.0, the distance with 1.0: 0.0\n",
      "\n",
      "\n",
      "Index:  2\n",
      "Similar cources:  [2, 143, 2374]\n",
      "Distances cources:  [2.220446049250313e-16, 2.220446049250313e-16, 2.220446049250313e-16]\n",
      "ID cources:  0\n",
      "[143, 2374]\n",
      "1: 143.0, the distance with 2.0: 2.220446049250313e-16\n",
      "2: 467.0, the distance with 2.0: 2.220446049250313e-16\n",
      "\n",
      "\n",
      "Index:  3\n",
      "Similar cources:  [3, 3684, 7364]\n",
      "Distances cources:  [2.220446049250313e-16, 2.220446049250313e-16, 2.220446049250313e-16]\n",
      "ID cources:  0\n",
      "[3684, 7364]\n",
      "1: 1777.0, the distance with 3.0: 2.220446049250313e-16\n",
      "2: 10.0, the distance with 3.0: 2.220446049250313e-16\n",
      "\n",
      "\n",
      "Index:  4\n",
      "Similar cources:  [4, 3685, 7365]\n",
      "Distances cources:  [0.0, 0.0, 0.0]\n",
      "ID cources:  0\n",
      "[3685, 7365]\n",
      "1: 1778.0, the distance with 4.0: 0.0\n",
      "2: 11.0, the distance with 4.0: 0.0\n",
      "\n",
      "\n",
      "Index:  5\n",
      "Similar cources:  [5, 3686, 7366]\n",
      "Distances cources:  [0.0, 0.0, 0.0]\n",
      "ID cources:  0\n",
      "[3686, 7366]\n",
      "1: 1779.0, the distance with 5.0: 0.0\n",
      "2: 12.0, the distance with 5.0: 0.0\n",
      "\n",
      "\n",
      "Index:  6\n",
      "Similar cources:  [6, 3687, 7367]\n",
      "Distances cources:  [0.0, 0.0, 0.0]\n",
      "ID cources:  0\n",
      "[3687, 7367]\n",
      "1: 1780.0, the distance with 6.0: 0.0\n",
      "2: 13.0, the distance with 6.0: 0.0\n",
      "\n",
      "\n",
      "Index:  7\n",
      "Similar cources:  [7, 16, 37]\n",
      "Distances cources:  [0.0, 0.0, 0.0]\n",
      "ID cources:  0\n",
      "[16, 37]\n",
      "1: 16.0, the distance with 7.0: 0.0\n",
      "2: 37.0, the distance with 7.0: 0.0\n",
      "\n",
      "\n",
      "Index:  8\n",
      "Similar cources:  [8, 3689, 7369]\n",
      "Distances cources:  [0.0, 0.0, 0.0]\n",
      "ID cources:  0\n",
      "[3689, 7369]\n",
      "1: 1782.0, the distance with 8.0: 0.0\n",
      "2: 15.0, the distance with 8.0: 0.0\n",
      "\n",
      "\n",
      "Index:  9\n",
      "Similar cources:  [9, 3690, 7370]\n",
      "Distances cources:  [2.220446049250313e-16, 2.220446049250313e-16, 2.220446049250313e-16]\n",
      "ID cources:  0\n",
      "[3690, 7370]\n",
      "1: 1783.0, the distance with 9.0: 2.220446049250313e-16\n",
      "2: 16.0, the distance with 9.0: 2.220446049250313e-16\n",
      "\n",
      "\n",
      "Index:  10\n",
      "Similar cources:  [10, 3691, 7371]\n",
      "Distances cources:  [0.0, 0.0, 0.0]\n",
      "ID cources:  0\n",
      "[3691, 7371]\n",
      "1: 1784.0, the distance with 10.0: 0.0\n",
      "2: 17.0, the distance with 10.0: 0.0\n",
      "\n",
      "\n",
      "Index:  11\n",
      "Similar cources:  [11, 3692, 7372]\n",
      "Distances cources:  [1.1102230246251565e-16, 1.1102230246251565e-16, 1.1102230246251565e-16]\n",
      "ID cources:  0\n",
      "[3692, 7372]\n",
      "1: 1785.0, the distance with 11.0: 1.1102230246251565e-16\n",
      "2: 18.0, the distance with 11.0: 1.1102230246251565e-16\n",
      "\n",
      "\n",
      "Index:  12\n",
      "Similar cources:  [12, 156, 235]\n",
      "Distances cources:  [0.0, 0.0, 0.0]\n",
      "ID cources:  0\n",
      "[156, 235]\n",
      "1: 156.0, the distance with 12.0: 0.0\n",
      "2: 235.0, the distance with 12.0: 0.0\n",
      "\n",
      "\n",
      "Index:  13\n",
      "Similar cources:  [13, 319, 3694]\n",
      "Distances cources:  [0.0, 0.0, 0.0]\n",
      "ID cources:  0\n",
      "[319, 3694]\n",
      "1: 319.0, the distance with 13.0: 0.0\n",
      "2: 1787.0, the distance with 13.0: 0.0\n",
      "\n",
      "\n",
      "Index:  14\n",
      "Similar cources:  [14, 3695, 7375]\n",
      "Distances cources:  [0.0, 0.0, 0.0]\n",
      "ID cources:  0\n",
      "[3695, 7375]\n",
      "1: 1788.0, the distance with 14.0: 0.0\n",
      "2: 21.0, the distance with 14.0: 0.0\n",
      "\n",
      "\n",
      "Index:  15\n",
      "Similar cources:  [15, 3696, 7376]\n",
      "Distances cources:  [1.1102230246251565e-16, 1.1102230246251565e-16, 1.1102230246251565e-16]\n",
      "ID cources:  0\n",
      "[3696, 7376]\n",
      "1: 1789.0, the distance with 15.0: 1.1102230246251565e-16\n",
      "2: 22.0, the distance with 15.0: 1.1102230246251565e-16\n",
      "\n",
      "\n",
      "Index:  16\n",
      "Similar cources:  [7, 16, 37]\n",
      "Distances cources:  [0.0, 0.0, 0.0]\n",
      "ID cources:  1\n",
      "[7, 37]\n",
      "1: 7.0, the distance with 16.0: 0.0\n",
      "2: 37.0, the distance with 16.0: 0.0\n",
      "\n",
      "\n",
      "Index:  17\n",
      "Similar cources:  [17, 3698, 7378]\n",
      "Distances cources:  [1.1102230246251565e-16, 1.1102230246251565e-16, 1.1102230246251565e-16]\n",
      "ID cources:  0\n",
      "[3698, 7378]\n",
      "1: 1791.0, the distance with 17.0: 1.1102230246251565e-16\n",
      "2: 24.0, the distance with 17.0: 1.1102230246251565e-16\n",
      "\n",
      "\n",
      "Index:  18\n",
      "Similar cources:  [18, 1315, 2070]\n",
      "Distances cources:  [2.220446049250313e-16, 2.220446049250313e-16, 2.220446049250313e-16]\n",
      "ID cources:  0\n",
      "[1315, 2070]\n",
      "1: 1315.0, the distance with 18.0: 2.220446049250313e-16\n",
      "2: 163.0, the distance with 18.0: 2.220446049250313e-16\n",
      "\n",
      "\n",
      "Index:  19\n",
      "Similar cources:  [19, 3700, 7380]\n",
      "Distances cources:  [0.0, 0.0, 0.0]\n",
      "ID cources:  0\n",
      "[3700, 7380]\n",
      "1: 1793.0, the distance with 19.0: 0.0\n",
      "2: 26.0, the distance with 19.0: 0.0\n",
      "\n",
      "\n",
      "Index:  20\n",
      "Similar cources:  [0, 1, 2]\n",
      "Distances cources:  [1.0, 1.0, 1.0]\n"
     ]
    },
    {
     "ename": "ValueError",
     "evalue": "20 is not in list",
     "output_type": "error",
     "traceback": [
      "\u001b[1;31m---------------------------------------------------------------------------\u001b[0m",
      "\u001b[1;31mValueError\u001b[0m                                Traceback (most recent call last)",
      "Input \u001b[1;32mIn [10]\u001b[0m, in \u001b[0;36m<cell line: 1>\u001b[1;34m()\u001b[0m\n\u001b[0;32m     11\u001b[0m course_distances \u001b[38;5;241m=\u001b[39m distances[index_user_likes]\u001b[38;5;241m.\u001b[39mtolist() \u001b[38;5;66;03m# the list for distances of similar courses\u001b[39;00m\n\u001b[0;32m     13\u001b[0m \u001b[38;5;28mprint\u001b[39m(\u001b[38;5;124m\"\u001b[39m\u001b[38;5;124mDistances cources: \u001b[39m\u001b[38;5;124m\"\u001b[39m, course_distances) \n\u001b[1;32m---> 15\u001b[0m id_course \u001b[38;5;241m=\u001b[39m \u001b[43msim_courses\u001b[49m\u001b[38;5;241;43m.\u001b[39;49m\u001b[43mindex\u001b[49m\u001b[43m(\u001b[49m\u001b[43mindex_user_likes\u001b[49m\u001b[43m)\u001b[49m \u001b[38;5;66;03m# get the position of the course itself in indices and distances\u001b[39;00m\n\u001b[0;32m     17\u001b[0m \u001b[38;5;28mprint\u001b[39m(\u001b[38;5;124m\"\u001b[39m\u001b[38;5;124mID cources: \u001b[39m\u001b[38;5;124m\"\u001b[39m, id_course)\n\u001b[0;32m     19\u001b[0m \u001b[38;5;66;03m#print('Similar courses to '+str(df.index[index_user_likes])+':\\n')\u001b[39;00m\n",
      "\u001b[1;31mValueError\u001b[0m: 20 is not in list"
     ]
    }
   ],
   "source": [
    "for title in df.index:\n",
    "    index_user_likes = df.index.tolist().index(title) # get an index for a course\n",
    "    \n",
    "    print(\"Index: \", index_user_likes)\n",
    "    \n",
    "    \n",
    "    sim_courses = indices[index_user_likes].tolist() # make list for similar courses\n",
    "    \n",
    "    print(\"Similar cources: \", sim_courses)\n",
    "    \n",
    "    course_distances = distances[index_user_likes].tolist() # the list for distances of similar courses\n",
    "    \n",
    "    print(\"Distances cources: \", course_distances) \n",
    "    \n",
    "    id_course = sim_courses.index(index_user_likes) # get the position of the course itself in indices and distances\n",
    "    \n",
    "    print(\"ID cources: \", id_course)\n",
    "\n",
    "    #print('Similar courses to '+str(df.index[index_user_likes])+':\\n')\n",
    "\n",
    "\n",
    "    sim_courses.remove(index_user_likes) # remove the course itself in indices\n",
    "    course_distances.pop(id_course) # remove the course itself in distances\n",
    "    \n",
    "    \n",
    "    j = 1\n",
    "    \n",
    "    \n",
    "    print(sim_courses)\n",
    "    \n",
    "    \n",
    "    \n",
    "    \n",
    "    for i in sim_courses:\n",
    "       print(str(j)+': '+str(df.index[i])+', the distance with '+str(title)+': '+str(course_distances[j-1]))\n",
    "       j = j + 1\n",
    "\n",
    "    print('\\n')\n",
    "    "
   ]
  },
  {
   "cell_type": "code",
   "execution_count": null,
   "metadata": {},
   "outputs": [],
   "source": [
    "# x = sim_courses.index(3)\n",
    "# x"
   ]
  },
  {
   "cell_type": "code",
   "execution_count": 11,
   "metadata": {},
   "outputs": [],
   "source": [
    "df1 = df.copy()\n",
    "\n",
    "def recommend_courses(user, num_recommended_course):\n",
    "    recommended_course = []\n",
    "\n",
    "    for m in df[df[user] == 0].index.tolist():\n",
    "        index_df = df.index.tolist().index(m)\n",
    "        predicted_rating = df1.iloc[index_df, df1.columns.tolist().index(user)]\n",
    "        recommended_course.append((m, predicted_rating))\n",
    "\n",
    "    sorted_rm = sorted(recommended_course, key=lambda x:x[1], reverse=True)\n",
    "\n",
    "    print('The list of the Recommended course \\n')\n",
    "    rank = 1\n",
    "    recommandations = list()\n",
    "    for recommended_course in sorted_rm[:num_recommended_course]:\n",
    "        recommandations.append(recommended_course[0])\n",
    "        print('{}: {} - predicted rating:{}'.format(rank, recommended_course[0], recommended_course[1]))\n",
    "        rank = rank + 1\n",
    "    return recommandations"
   ]
  },
  {
   "cell_type": "code",
   "execution_count": 12,
   "metadata": {},
   "outputs": [
    {
     "ename": "ValueError",
     "evalue": "nan is not in list",
     "output_type": "error",
     "traceback": [
      "\u001b[1;31m---------------------------------------------------------------------------\u001b[0m",
      "\u001b[1;31mValueError\u001b[0m                                Traceback (most recent call last)",
      "Input \u001b[1;32mIn [12]\u001b[0m, in \u001b[0;36m<cell line: 1>\u001b[1;34m()\u001b[0m\n\u001b[1;32m----> 1\u001b[0m recommendations \u001b[38;5;241m=\u001b[39m \u001b[43mrecommend_courses\u001b[49m\u001b[43m(\u001b[49m\u001b[38;5;124;43m'\u001b[39;49m\u001b[38;5;124;43mPooja\u001b[39;49m\u001b[38;5;124;43m'\u001b[39;49m\u001b[43m,\u001b[49m\u001b[43m \u001b[49m\u001b[38;5;241;43m5\u001b[39;49m\u001b[43m)\u001b[49m\n",
      "Input \u001b[1;32mIn [11]\u001b[0m, in \u001b[0;36mrecommend_courses\u001b[1;34m(user, num_recommended_course)\u001b[0m\n\u001b[0;32m      4\u001b[0m recommended_course \u001b[38;5;241m=\u001b[39m []\n\u001b[0;32m      6\u001b[0m \u001b[38;5;28;01mfor\u001b[39;00m m \u001b[38;5;129;01min\u001b[39;00m df[df[user] \u001b[38;5;241m==\u001b[39m \u001b[38;5;241m0\u001b[39m]\u001b[38;5;241m.\u001b[39mindex\u001b[38;5;241m.\u001b[39mtolist():\n\u001b[1;32m----> 7\u001b[0m     index_df \u001b[38;5;241m=\u001b[39m \u001b[43mdf\u001b[49m\u001b[38;5;241;43m.\u001b[39;49m\u001b[43mindex\u001b[49m\u001b[38;5;241;43m.\u001b[39;49m\u001b[43mtolist\u001b[49m\u001b[43m(\u001b[49m\u001b[43m)\u001b[49m\u001b[38;5;241;43m.\u001b[39;49m\u001b[43mindex\u001b[49m\u001b[43m(\u001b[49m\u001b[43mm\u001b[49m\u001b[43m)\u001b[49m\n\u001b[0;32m      8\u001b[0m     predicted_rating \u001b[38;5;241m=\u001b[39m df1\u001b[38;5;241m.\u001b[39miloc[index_df, df1\u001b[38;5;241m.\u001b[39mcolumns\u001b[38;5;241m.\u001b[39mtolist()\u001b[38;5;241m.\u001b[39mindex(user)]\n\u001b[0;32m      9\u001b[0m     recommended_course\u001b[38;5;241m.\u001b[39mappend((m, predicted_rating))\n",
      "\u001b[1;31mValueError\u001b[0m: nan is not in list"
     ]
    }
   ],
   "source": [
    "recommendations = recommend_courses('Pooja', 5)"
   ]
  },
  {
   "cell_type": "code",
   "execution_count": null,
   "metadata": {},
   "outputs": [],
   "source": [
    "#course_index = list()\n",
    "#for recommendation in recommendations:\n",
    "#    course_index.append(df_courses.index[df_courses[\"course_id\"]==recommendation].tolist())"
   ]
  },
  {
   "cell_type": "code",
   "execution_count": null,
   "metadata": {},
   "outputs": [],
   "source": [
    "#course_indexs = [item for sublist in course_index for item in sublist]\n",
    "#course_indexs"
   ]
  },
  {
   "cell_type": "code",
   "execution_count": null,
   "metadata": {},
   "outputs": [],
   "source": [
    "#df_courses[df_courses.course_id.isin(recommendations)]"
   ]
  },
  {
   "cell_type": "code",
   "execution_count": null,
   "metadata": {},
   "outputs": [],
   "source": [
    "df1 = df.copy()\n",
    "\n",
    "def course_recommender(user, num_neighbors, num_recommendation):\n",
    "    number_neighbors = num_neighbors\n",
    "    knn = NearestNeighbors(metric='cosine', algorithm='brute')\n",
    "    knn.fit(df.values)\n",
    "    distances, indices = knn.kneighbors(df.values, n_neighbors=number_neighbors)\n",
    "\n",
    "    user_index = df.columns.tolist().index(user)\n",
    "\n",
    "    for m,t in list(enumerate(df.index)):\n",
    "        if df.iloc[m, user_index] == 0:\n",
    "            sim_courses = indices[m].tolist()\n",
    "            course_distances = distances[m].tolist()\n",
    "            \n",
    "            if m in sim_courses:\n",
    "                id_course = sim_courses.index(m)\n",
    "                sim_courses.remove(m)\n",
    "                course_distances.pop(id_course) \n",
    "\n",
    "            else:\n",
    "                sim_courses = sim_courses[:num_neighbors-1]\n",
    "                course_distances = course_distances[:num_neighbors-1]\n",
    "\n",
    "            course_similarity = [1-x for x in course_distances]\n",
    "            course_similarity_copy = course_similarity.copy()\n",
    "            nominator = 0\n",
    "\n",
    "            for s in range(0, len(course_similarity)):\n",
    "                if df.iloc[sim_courses[s], user_index] == 0:\n",
    "                    if len(course_similarity_copy) == (number_neighbors - 1):\n",
    "                        course_similarity_copy.pop(s)\n",
    "\n",
    "                    else:\n",
    "                        course_similarity_copy.pop(s-(len(course_similarity)-len(course_similarity_copy)))\n",
    "\n",
    "                else:\n",
    "                    nominator = nominator + course_similarity[s]*df.iloc[sim_courses[s],user_index]\n",
    "\n",
    "            if len(course_similarity_copy) > 0:\n",
    "                if sum(course_similarity_copy) > 0:\n",
    "                    predicted_r = nominator/sum(course_similarity_copy)\n",
    "\n",
    "                else:\n",
    "                    predicted_r = 0\n",
    "\n",
    "            else:\n",
    "                predicted_r = 0\n",
    "\n",
    "            df1.iloc[m,user_index] = predicted_r\n",
    "    recommandations = recommend_courses(user,num_recommendation)"
   ]
  },
  {
   "cell_type": "code",
   "execution_count": null,
   "metadata": {},
   "outputs": [],
   "source": [
    "recommandations = course_recommender('Pooja', 5, 10)\n",
    "#print(\"recommandations\", recommandations)"
   ]
  },
  {
   "cell_type": "code",
   "execution_count": null,
   "metadata": {},
   "outputs": [],
   "source": []
  },
  {
   "cell_type": "code",
   "execution_count": null,
   "metadata": {},
   "outputs": [],
   "source": []
  }
 ],
 "metadata": {
  "kernelspec": {
   "display_name": "Python 3 (ipykernel)",
   "language": "python",
   "name": "python3"
  },
  "language_info": {
   "codemirror_mode": {
    "name": "ipython",
    "version": 3
   },
   "file_extension": ".py",
   "mimetype": "text/x-python",
   "name": "python",
   "nbconvert_exporter": "python",
   "pygments_lexer": "ipython3",
   "version": "3.10.2"
  }
 },
 "nbformat": 4,
 "nbformat_minor": 4
}
